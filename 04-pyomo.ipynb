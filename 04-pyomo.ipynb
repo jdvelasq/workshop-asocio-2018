{
 "cells": [
  {
   "cell_type": "markdown",
   "metadata": {
    "slideshow": {
     "slide_type": "slide"
    }
   },
   "source": [
    "Optimización usando Pyomo\n",
    "===\n",
    "\n",
    "**Juan David Velásquez Henao**  \n",
    "jdvelasq@unal.edu.co   \n",
    "Universidad Nacional de Colombia, Sede Medellín  \n",
    "Facultad de Minas  \n",
    "Medellín, Colombia\n",
    "\n",
    "---\n",
    "\n",
    "Haga click [aquí](https://github.com/jdvelasq/workshop-asocio-2018/tree/master/) para acceder al repositorio online.\n",
    "\n",
    "Haga click [aquí](http://nbviewer.jupyter.org/github/jdvelasq/workshop-asocio-2018/tree/master/) para explorar el repositorio usando `nbviewer`. "
   ]
  },
  {
   "cell_type": "markdown",
   "metadata": {},
   "source": [
    "### Instalación\n",
    "\n",
    "`Pyomo` es un lenguaje para la especificación de problemas de programación lineal escrito directamente en Python. Para su instalación use `pip` en la línea de comandos.\n",
    "\n",
    "    pip install pyomo\n",
    "    \n",
    "Adicionalmente es necesario instalar un solver para poder resolver los problemas planteados. En este caso se instalará el solver gratuito `glpk`. \n",
    "\n",
    "* Para Windows, siga las instrucciones de instalación que aparecen en: http://winglpk.sourceforge.net\n",
    "\n",
    "\n",
    "* Para macOS, http://hichenwang.blogspot.com.co/2011/08/fw-installing-glpk-on-mac.html"
   ]
  },
  {
   "cell_type": "markdown",
   "metadata": {},
   "source": [
    "### Manual en Línea\n",
    "\n",
    "http://pyomo.readthedocs.io/en/latest/"
   ]
  },
  {
   "cell_type": "markdown",
   "metadata": {},
   "source": [
    "### Ejemplo\n",
    "\n",
    "A continuación se usará `Pyomo` para resolver el siguiente problema de optimización."
   ]
  },
  {
   "cell_type": "markdown",
   "metadata": {},
   "source": [
    "$$\\text{max } z = x_1 + 3x_2$$\n",
    "\n",
    "Sujeto a:\n",
    "$$ \n",
    "\\begin{array}{cccc}\n",
    "   -x_1 &  +x_2 & \\ge & 0\\\\\n",
    "  -3x_1 &  +x_2 & \\le & 3\\\\\n",
    "   +x_1 & +2x_2 & =   & 6\\\\\n",
    "\\end{array}\n",
    "$$   \n",
    "   \n",
    "   \n",
    "   \n",
    "$$x_1, x_2  \\ge  0$$\n",
    "  "
   ]
  },
  {
   "cell_type": "markdown",
   "metadata": {},
   "source": [
    "El modelo debe escribirse en `Python` en un archivo. Este archivo se le pasa a `Pyomo` para su solución. La siguiente celda usa el magic command `%%writefile` para escribir su contenido al archivo `model.py`."
   ]
  },
  {
   "cell_type": "code",
   "execution_count": 1,
   "metadata": {},
   "outputs": [
    {
     "name": "stdout",
     "output_type": "stream",
     "text": [
      "Overwriting model.py\n"
     ]
    }
   ],
   "source": [
    "%%writefile model.py\n",
    "\n",
    "from pyomo.environ import *\n",
    "\n",
    "model = ConcreteModel()\n",
    "model.x_1 = Var(domain=NonNegativeReals)\n",
    "model.x_2 = Var(domain=NonNegativeReals)\n",
    "\n",
    "model.OBJ = Objective(expr  = -     model.x_1 - 3 * model.x_2)\n",
    "model.r1  = Constraint(expr = -     model.x_1 +     model.x_2 >= 0)\n",
    "model.r2  = Constraint(expr = - 3 * model.x_1 +     model.x_2 <= 3)\n",
    "model.r3  = Constraint(expr = +     model.x_1 + 2 * model.x_2 == 6)"
   ]
  },
  {
   "cell_type": "markdown",
   "metadata": {},
   "source": [
    "Para visualizar el contenido del archivo `model.py` puede usar el comando `type` en Microsoft Windows o `cat` en Ubuntu o macOS. El símbolo de admiración le indica a Jupyter que el comando que sigue es del sistema operativo; Jupyter lo ejecuta y captura la salia  "
   ]
  },
  {
   "cell_type": "code",
   "execution_count": 2,
   "metadata": {
    "scrolled": true
   },
   "outputs": [
    {
     "name": "stdout",
     "output_type": "stream",
     "text": [
      "\r\n",
      "from pyomo.environ import *\r\n",
      "\r\n",
      "model = ConcreteModel()\r\n",
      "model.x_1 = Var(domain=NonNegativeReals)\r\n",
      "model.x_2 = Var(domain=NonNegativeReals)\r\n",
      "\r\n",
      "model.OBJ = Objective(expr  = -     model.x_1 - 3 * model.x_2)\r\n",
      "model.r1  = Constraint(expr = -     model.x_1 +     model.x_2 >= 0)\r\n",
      "model.r2  = Constraint(expr = - 3 * model.x_1 +     model.x_2 <= 3)\r\n",
      "model.r3  = Constraint(expr = +     model.x_1 + 2 * model.x_2 == 6)"
     ]
    }
   ],
   "source": [
    "!cat model.py"
   ]
  },
  {
   "cell_type": "code",
   "execution_count": 3,
   "metadata": {},
   "outputs": [
    {
     "name": "stdout",
     "output_type": "stream",
     "text": [
      "WARNING: converting to the 'pyomo solve' subcommand\n",
      "[    0.00] Setting up Pyomo environment\n",
      "[    0.00] Applying Pyomo preprocessing actions\n",
      "[    0.00] Creating model\n",
      "[    0.00] Applying solver\n",
      "[    0.07] Processing results\n",
      "    Number of solutions: 1\n",
      "    Solution Information\n",
      "      Gap: 0.0\n",
      "      Status: feasible\n",
      "      Function Value: -9.0\n",
      "    Solver results file: results.yml\n",
      "[    0.07] Applying Pyomo postprocessing actions\n",
      "[    0.07] Pyomo Finished\n"
     ]
    }
   ],
   "source": [
    "!pyomo model.py --solver=glpk"
   ]
  },
  {
   "cell_type": "code",
   "execution_count": 4,
   "metadata": {},
   "outputs": [
    {
     "name": "stdout",
     "output_type": "stream",
     "text": [
      "# ==========================================================\r\n",
      "# = Solver Results                                         =\r\n",
      "# ==========================================================\r\n",
      "# ----------------------------------------------------------\r\n",
      "#   Problem Information\r\n",
      "# ----------------------------------------------------------\r\n",
      "Problem: \r\n",
      "- Name: unknown\r\n",
      "  Lower bound: -9.0\r\n",
      "  Upper bound: -9.0\r\n",
      "  Number of objectives: 1\r\n",
      "  Number of constraints: 4\r\n",
      "  Number of variables: 3\r\n",
      "  Number of nonzeros: 7\r\n",
      "  Sense: minimize\r\n",
      "# ----------------------------------------------------------\r\n",
      "#   Solver Information\r\n",
      "# ----------------------------------------------------------\r\n",
      "Solver: \r\n",
      "- Status: ok\r\n",
      "  Termination condition: optimal\r\n",
      "  Statistics: \r\n",
      "    Branch and bound: \r\n",
      "      Number of bounded subproblems: 0\r\n",
      "      Number of created subproblems: 0\r\n",
      "  Error rc: 0\r\n",
      "  Time: 0.009459972381591797\r\n",
      "# ----------------------------------------------------------\r\n",
      "#   Solution Information\r\n",
      "# ----------------------------------------------------------\r\n",
      "Solution: \r\n",
      "- number of solutions: 1\r\n",
      "  number of solutions displayed: 1\r\n",
      "- Gap: 0.0\r\n",
      "  Status: feasible\r\n",
      "  Message: None\r\n",
      "  Objective:\r\n",
      "    OBJ:\r\n",
      "      Value: -9\r\n",
      "  Variable:\r\n",
      "    x_2:\r\n",
      "      Value: 3\r\n",
      "  Constraint: No values\r\n"
     ]
    }
   ],
   "source": [
    "!cat results.yml"
   ]
  },
  {
   "cell_type": "markdown",
   "metadata": {
    "slideshow": {
     "slide_type": "slide"
    }
   },
   "source": [
    "Optimización usando Pyomo\n",
    "===\n",
    "\n",
    "**Juan David Velásquez Henao**  \n",
    "jdvelasq@unal.edu.co   \n",
    "Universidad Nacional de Colombia, Sede Medellín  \n",
    "Facultad de Minas  \n",
    "Medellín, Colombia\n",
    "\n",
    "---\n",
    "\n",
    "Haga click [aquí](https://github.com/jdvelasq/workshop-asocio-2018/tree/master/) para acceder al repositorio online.\n",
    "\n",
    "Haga click [aquí](http://nbviewer.jupyter.org/github/jdvelasq/workshop-asocio-2018/tree/master/) para explorar el repositorio usando `nbviewer`. "
   ]
  }
 ],
 "metadata": {
  "anaconda-cloud": {},
  "kernelspec": {
   "display_name": "Python 3",
   "language": "python",
   "name": "python3"
  },
  "language_info": {
   "codemirror_mode": {
    "name": "ipython",
    "version": 3
   },
   "file_extension": ".py",
   "mimetype": "text/x-python",
   "name": "python",
   "nbconvert_exporter": "python",
   "pygments_lexer": "ipython3",
   "version": "3.6.4"
  }
 },
 "nbformat": 4,
 "nbformat_minor": 1
}
