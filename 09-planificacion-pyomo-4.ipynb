{
 "cells": [
  {
   "cell_type": "markdown",
   "metadata": {
    "extensions": {
     "jupyter_dashboards": {
      "version": 1,
      "views": {
       "grid_default": {
        "col": 0,
        "height": 11,
        "hidden": false,
        "row": 0,
        "width": 12
       },
       "report_default": {}
      }
     }
    }
   },
   "source": [
    "Planificación usando Pyomo - Parte 4\n",
    "===\n",
    "\n",
    "**Juan David Velásquez Henao**  \n",
    "jdvelasq@unal.edu.co   \n",
    "Universidad Nacional de Colombia, Sede Medellín  \n",
    "Facultad de Minas  \n",
    "Medellín, Colombia\n",
    "\n",
    "---\n",
    "\n",
    "Haga click [aquí](https://github.com/jdvelasq/workshop-asocio-2018/tree/master/) para acceder al repositorio online.\n",
    "\n",
    "Haga click [aquí](http://nbviewer.jupyter.org/github/jdvelasq/workshop-asocio-2018/tree/master/) para explorar el repositorio usando `nbviewer`. "
   ]
  },
  {
   "cell_type": "markdown",
   "metadata": {
    "extensions": {
     "jupyter_dashboards": {
      "version": 1,
      "views": {
       "grid_default": {
        "col": 0,
        "height": 4,
        "hidden": false,
        "row": 11,
        "width": 12
       },
       "report_default": {}
      }
     }
    }
   },
   "source": [
    "### Definición del problema\n",
    "\n",
    "Se desea realizar el planeamiento de la operacion de un sistema hidrotermico conformado por dos plantas hidraulica y dos termicas. La informacion es la siguiente:"
   ]
  },
  {
   "cell_type": "markdown",
   "metadata": {
    "extensions": {
     "jupyter_dashboards": {
      "version": 1,
      "views": {
       "grid_default": {
        "col": 0,
        "height": 19,
        "hidden": false,
        "row": 15,
        "width": null
       },
       "report_default": {}
      }
     }
    }
   },
   "source": [
    " \n",
    " \n",
    "* **Planificacion:**    4 etapas. \n",
    "\n",
    "\n",
    "* **Planta hidraulica 1:**    \n",
    "    * Vol. maximo (V*) = 100.\n",
    "    * Caudal max. turbinado (Q*) = 50.\n",
    "    * Factor conversion ($\\rho$) = 1.\n",
    "    * Aporte por etapa ($A_i$) =  {21, 15, 12, 18}.\n",
    "    * Volumen inicial ($V_o$) = 75.  \n",
    "    \n",
    "    \n",
    "* **Planta hidraulica 2:**    \n",
    "    * Vol. maximo (V*) = 100.\n",
    "    * Caudal max. turbinado (Q*) = 45.\n",
    "    * Factor conversion ($\\rho$) = 1.\n",
    "    * Aporte por etapa ($A_i$)  = {14, 8, 5, 11}.\n",
    "    * Volumen inicial ($V_o$) = 75.  \n",
    "    \n",
    "    \n",
    "* **Planta termica 1 :**    \n",
    "    * Generacion maxima (G*) = 45\n",
    "    * Costo combustible (CC) = 15. \n",
    "    \n",
    "    \n",
    "* **Planta termica 2 :**    \n",
    "    * Generacion maxima (G*) = 40\n",
    "    * Costo combustible (CC) = 15. \n",
    " \n",
    " \n",
    "* **Racionamiento:**   \n",
    "    * Costo racionamiento (CR) = 1000 para todas las etapas. \n",
    " \n",
    " \n",
    "* **Demanda:**  80 para todas las etapas \n",
    " "
   ]
  },
  {
   "cell_type": "markdown",
   "metadata": {
    "collapsed": true,
    "extensions": {
     "jupyter_dashboards": {
      "version": 1,
      "views": {
       "grid_default": {
        "col": 0,
        "height": 4,
        "hidden": false,
        "row": 34,
        "width": 4
       },
       "report_default": {}
      }
     }
    }
   },
   "source": [
    "### Inicialización de Pyomo"
   ]
  },
  {
   "cell_type": "code",
   "execution_count": 1,
   "metadata": {
    "extensions": {
     "jupyter_dashboards": {
      "version": 1,
      "views": {
       "grid_default": {
        "col": 4,
        "height": 4,
        "hidden": false,
        "row": 34,
        "width": 4
       },
       "report_default": {}
      }
     }
    }
   },
   "outputs": [],
   "source": [
    "from pyomo.environ import *\n",
    "\n",
    "## Creación del modelo abstracto\n",
    "model = AbstractModel()"
   ]
  },
  {
   "cell_type": "markdown",
   "metadata": {
    "extensions": {
     "jupyter_dashboards": {
      "version": 1,
      "views": {
       "grid_default": {
        "col": 8,
        "height": 4,
        "hidden": false,
        "row": 34,
        "width": 4
       },
       "report_default": {}
      }
     }
    }
   },
   "source": [
    "### Formulación del modelo abstracto"
   ]
  },
  {
   "cell_type": "code",
   "execution_count": 3,
   "metadata": {
    "extensions": {
     "jupyter_dashboards": {
      "version": 1,
      "views": {
       "grid_default": {
        "col": 4,
        "height": 4,
        "hidden": false,
        "row": 38,
        "width": 4
       },
       "report_default": {}
      }
     }
    }
   },
   "outputs": [],
   "source": [
    "## Datos\n",
    "\n",
    "# Numero de etapas\n",
    "model.P = Set(ordered=True)                      \n",
    "                     \n",
    "# Numero de plantas hidro\n",
    "model.HD = Set(ordered=True)                     \n",
    "\n",
    "# Numero de plantas termicas \n",
    "model.TM = Set(ordered=True)                     \n",
    "\n",
    "# Costo de Racionamiento indexado por etapa\n",
    "model.CR = Param(model.P)                         \n",
    "\n",
    "# Costo de Combusstible indexado por termica\n",
    "model.CC = Param(model.TM)                       \n",
    "\n",
    "# Volumen inicial del embalse indexado por hidro\n",
    "model.Vo = Param(model.HD)                         \n",
    "\n",
    "# Demanda indexada etapa\n",
    "model.D = Param(model.P)                         \n",
    "         \n",
    "# Aportes Hidrologicos indexado por plantas hidro\n",
    "model.A = Param(model.HD,model.P)                \n",
    "\n",
    "# Caudal turbinado indexado por plantas hidro\n",
    "model.QH = Param(model.HD)                       \n",
    "\n",
    "# Generacion termica maxima indexado por termicas\n",
    "model.GM = Param(model.TM)                       \n",
    "\n",
    "# La energia racionada indexada por etapa\n",
    "model.R = Var(model.P, within=NonNegativeReals)    \n",
    "\n",
    "# La generacion termica varia por etapa y por planta\n",
    "model.G = Var(model.P, model.TM, within=NonNegativeReals)   \n",
    "\n",
    "# El caudar turbinado varia por etapa y por plantas hidroelectricas\n",
    "model.Q = Var(model.P, model.HD, within=NonNegativeReals)         \n",
    "\n",
    "# El volumen final varia por etapa y por la planta hidro en que se encuentre\n",
    "model.V = Var(model.P, model.HD, within=NonNegativeReals)\n",
    "\n",
    "# El volumen vertido varia por etapa y por planta hidro\n",
    "model.S = Var(model.P, model.HD, within=NonNegativeReals)"
   ]
  },
  {
   "cell_type": "markdown",
   "metadata": {
    "extensions": {
     "jupyter_dashboards": {
      "version": 1,
      "views": {
       "grid_default": {
        "col": 8,
        "height": 4,
        "hidden": false,
        "row": 38,
        "width": 4
       },
       "report_default": {}
      }
     }
    }
   },
   "source": [
    "### Funcion objetivo"
   ]
  },
  {
   "cell_type": "markdown",
   "metadata": {
    "extensions": {
     "jupyter_dashboards": {
      "version": 1,
      "views": {
       "grid_default": {
        "col": 0,
        "height": 4,
        "hidden": false,
        "row": 42,
        "width": null
       },
       "report_default": {}
      }
     }
    }
   },
   "source": [
    "La funcion objetivo busca minimizar el costo total del racionamiento mas el costo total de la generacion termica:\n",
    "\n",
    "\n",
    "$$\\text{minimize} ~ \\sum_{p=1}^{P} ~\\Bigg\\{ CR * DEF_p + \\sum_{t=1}^T CC_t * GT_{p,t} ~\\Bigg\\}$$\n",
    "\n",
    "\n",
    "\n",
    "\n",
    "\n"
   ]
  },
  {
   "cell_type": "code",
   "execution_count": 4,
   "metadata": {
    "extensions": {
     "jupyter_dashboards": {
      "version": 1,
      "views": {
       "grid_default": {
        "col": 0,
        "height": 4,
        "hidden": false,
        "row": 46,
        "width": 4
       },
       "report_default": {}
      }
     }
    }
   },
   "outputs": [],
   "source": [
    "## Definicion de la funcion objetivo\n",
    "\n",
    "def obj_rule(model):\n",
    "    return (sum(model.CR[i]*model.R[i] for i in model.P) + \n",
    "           sum(model.CC[j]*model.G[i,j] for j in model.TM for i in model.P))\n",
    "\n",
    "model.obj = Objective(rule = obj_rule)"
   ]
  },
  {
   "cell_type": "markdown",
   "metadata": {
    "extensions": {
     "jupyter_dashboards": {
      "version": 1,
      "views": {
       "grid_default": {
        "col": 4,
        "height": 6,
        "hidden": false,
        "row": 46,
        "width": null
       },
       "report_default": {}
      }
     }
    }
   },
   "source": [
    "### Demanda\n",
    "\n",
    "Por cada periodo de tiempo $p$ debe cumplirse que:\n",
    "\n",
    "$$ DEF_p + \\Bigg\\{ \\sum_{h=1}^H \\rho_h * Q_{hp} \\Bigg\\} + \\Bigg\\{ \\sum_{t=1}^T GT_{t p} \\Bigg\\} = dem_p$$\n"
   ]
  },
  {
   "cell_type": "code",
   "execution_count": 5,
   "metadata": {
    "extensions": {
     "jupyter_dashboards": {
      "version": 1,
      "views": {
       "grid_default": {
        "col": 0,
        "height": 4,
        "hidden": false,
        "row": 50,
        "width": 4
       },
       "report_default": {}
      }
     }
    }
   },
   "outputs": [],
   "source": [
    "def demanda_rule(model,p):\n",
    "        return (model.R[p] + \n",
    "                sum(model.G[p,j] for j in model.TM) + \n",
    "                sum(model.Q[p,j] for j in model.HD)== model.D[p])\n",
    "\n",
    "model.demanda = Constraint(model.P,rule=demanda_rule)"
   ]
  },
  {
   "cell_type": "markdown",
   "metadata": {
    "extensions": {
     "jupyter_dashboards": {
      "version": 1,
      "views": {
       "grid_default": {
        "col": 4,
        "height": 5,
        "hidden": false,
        "row": 52,
        "width": null
       },
       "report_default": {}
      }
     }
    }
   },
   "source": [
    "### Continuidad de los volumenes de los embalses\n",
    "\n",
    "Para el primer periodo, el embalse inicial $Vol_{h,0}$ es conocido, entonces:\n",
    "\n",
    "$$Vol_{h,1} +Q_{h,1}+Ver_{h,1}=A_{h,1}+ Vol_{h,0}$$"
   ]
  },
  {
   "cell_type": "code",
   "execution_count": 6,
   "metadata": {
    "extensions": {
     "jupyter_dashboards": {
      "version": 1,
      "views": {
       "grid_default": {
        "col": 0,
        "height": 4,
        "hidden": false,
        "row": 54,
        "width": 4
       },
       "report_default": {}
      }
     }
    }
   },
   "outputs": [],
   "source": [
    "def continuidad_rule(model,p, hd):\n",
    "        if model.P[p] == 1 :\n",
    "            return model.V[p,hd] + model.Q[p,hd] + model.S[p,hd] == model.Vo[hd]+ model.A[hd,1]     \n",
    "        else:\n",
    "            return -model.V[p-1,hd] + model.V[p,hd] + model.Q[p,hd] + model.S[p,hd] ==  model.A[hd,p]    \n",
    "\n",
    "model.continuidad = Constraint(model.P, model.HD, rule=continuidad_rule)"
   ]
  },
  {
   "cell_type": "markdown",
   "metadata": {
    "extensions": {
     "jupyter_dashboards": {
      "version": 1,
      "views": {
       "grid_default": {
        "col": 4,
        "height": 4,
        "hidden": false,
        "row": 57,
        "width": 4
       },
       "report_default": {}
      }
     }
    }
   },
   "source": [
    "### Caudal turbinado maximo"
   ]
  },
  {
   "cell_type": "code",
   "execution_count": 7,
   "metadata": {
    "extensions": {
     "jupyter_dashboards": {
      "version": 1,
      "views": {
       "grid_default": {
        "col": 8,
        "height": 4,
        "hidden": false,
        "row": 57,
        "width": 4
       },
       "report_default": {}
      }
     }
    }
   },
   "outputs": [
    {
     "name": "stdout",
     "output_type": "stream",
     "text": [
      "Writing model.py\n"
     ]
    }
   ],
   "source": [
    "%%writefile -a model.py\n",
    "\n",
    "def qmax_rule(model, p, HD):\n",
    "    \n",
    "    return model.Q[p, HD] <= model.QH[HD]\n",
    "\n",
    "model.qmax = Constraint(model.P, model.HD, rule = qmax_rule)"
   ]
  },
  {
   "cell_type": "markdown",
   "metadata": {
    "extensions": {
     "jupyter_dashboards": {
      "version": 1,
      "views": {
       "grid_default": {
        "col": 0,
        "height": 4,
        "hidden": false,
        "row": 58,
        "width": 4
       },
       "report_default": {}
      }
     }
    }
   },
   "source": [
    "### Generacion térmica maxima"
   ]
  },
  {
   "cell_type": "code",
   "execution_count": 8,
   "metadata": {
    "extensions": {
     "jupyter_dashboards": {
      "version": 1,
      "views": {
       "grid_default": {
        "col": 4,
        "height": 4,
        "hidden": false,
        "row": 61,
        "width": 4
       },
       "report_default": {}
      }
     }
    }
   },
   "outputs": [],
   "source": [
    "def gtmax_rule(model,p,TM):\n",
    "    return model.G[p,TM] <= model.GM[TM]\n",
    "\n",
    "model.gtmax = Constraint(model.P, model.TM, rule=gtmax_rule)"
   ]
  },
  {
   "cell_type": "markdown",
   "metadata": {
    "extensions": {
     "jupyter_dashboards": {
      "version": 1,
      "views": {
       "grid_default": {
        "col": 8,
        "height": 4,
        "hidden": false,
        "row": 61,
        "width": 4
       },
       "report_default": {}
      }
     }
    }
   },
   "source": [
    "### Manejo de datos usando DataObjects"
   ]
  },
  {
   "cell_type": "code",
   "execution_count": 9,
   "metadata": {
    "extensions": {
     "jupyter_dashboards": {
      "version": 1,
      "views": {
       "grid_default": {
        "hidden": true
       },
       "report_default": {}
      }
     }
    }
   },
   "outputs": [],
   "source": [
    "## crea el objeto para cargar los datos\n",
    "data = DataPortal()"
   ]
  },
  {
   "cell_type": "code",
   "execution_count": null,
   "metadata": {},
   "outputs": [],
   "source": [
    "### set P  := 1 2 3 4 ;"
   ]
  },
  {
   "cell_type": "code",
   "execution_count": 10,
   "metadata": {
    "extensions": {
     "jupyter_dashboards": {
      "version": 1,
      "views": {
       "grid_default": {
        "hidden": true
       },
       "report_default": {}
      }
     }
    }
   },
   "outputs": [
    {
     "name": "stdout",
     "output_type": "stream",
     "text": [
      "Overwriting P.csv\n"
     ]
    }
   ],
   "source": [
    "%%writefile P.csv\n",
    "P \n",
    "1 \n",
    "2 \n",
    "3 \n",
    "4    "
   ]
  },
  {
   "cell_type": "code",
   "execution_count": 11,
   "metadata": {
    "scrolled": true
   },
   "outputs": [
    {
     "data": {
      "text/plain": [
       "[1, 2, 3, 4]"
      ]
     },
     "execution_count": 11,
     "metadata": {},
     "output_type": "execute_result"
    }
   ],
   "source": [
    "data.load(filename='P.csv', set=model.P, format='set')\n",
    "data['P']"
   ]
  },
  {
   "cell_type": "code",
   "execution_count": null,
   "metadata": {},
   "outputs": [],
   "source": [
    "### set HD := 1 2 ;"
   ]
  },
  {
   "cell_type": "code",
   "execution_count": 12,
   "metadata": {},
   "outputs": [
    {
     "name": "stdout",
     "output_type": "stream",
     "text": [
      "Overwriting HD.csv\n"
     ]
    }
   ],
   "source": [
    "%%writefile HD.csv\n",
    "HD\n",
    "1\n",
    "2"
   ]
  },
  {
   "cell_type": "code",
   "execution_count": 13,
   "metadata": {
    "scrolled": true
   },
   "outputs": [
    {
     "data": {
      "text/plain": [
       "[1, 2]"
      ]
     },
     "execution_count": 13,
     "metadata": {},
     "output_type": "execute_result"
    }
   ],
   "source": [
    "data.load(filename='HD.csv', set=model.HD, format='set')\n",
    "data['HD']"
   ]
  },
  {
   "cell_type": "code",
   "execution_count": 14,
   "metadata": {
    "extensions": {
     "jupyter_dashboards": {
      "version": 1,
      "views": {
       "grid_default": {
        "hidden": true
       },
       "report_default": {}
      }
     }
    }
   },
   "outputs": [],
   "source": [
    "### set TM := 1 2 ;"
   ]
  },
  {
   "cell_type": "code",
   "execution_count": 15,
   "metadata": {},
   "outputs": [
    {
     "name": "stdout",
     "output_type": "stream",
     "text": [
      "Overwriting TM.csv\n"
     ]
    }
   ],
   "source": [
    "%%writefile TM.csv\n",
    "TM\n",
    "1\n",
    "2"
   ]
  },
  {
   "cell_type": "code",
   "execution_count": 16,
   "metadata": {},
   "outputs": [
    {
     "data": {
      "text/plain": [
       "[1, 2]"
      ]
     },
     "execution_count": 16,
     "metadata": {},
     "output_type": "execute_result"
    }
   ],
   "source": [
    "data.load(filename='TM.csv', set=model.TM, format='set')\n",
    "data['TM']"
   ]
  },
  {
   "cell_type": "code",
   "execution_count": 17,
   "metadata": {
    "extensions": {
     "jupyter_dashboards": {
      "version": 1,
      "views": {
       "grid_default": {
        "hidden": true
       },
       "report_default": {}
      }
     }
    }
   },
   "outputs": [],
   "source": [
    "### param CR := \n",
    "### 1 1000\n",
    "### 2 1000\n",
    "### 3 1000\n",
    "### 4 1000 ;"
   ]
  },
  {
   "cell_type": "code",
   "execution_count": 18,
   "metadata": {
    "extensions": {
     "jupyter_dashboards": {
      "version": 1,
      "views": {
       "grid_default": {
        "hidden": true
       },
       "report_default": {
        "hidden": true
       }
      }
     }
    }
   },
   "outputs": [
    {
     "name": "stdout",
     "output_type": "stream",
     "text": [
      "Overwriting CR.csv\n"
     ]
    }
   ],
   "source": [
    "%%writefile CR.csv\n",
    "P, CR \n",
    "1, 1000\n",
    "2, 1000\n",
    "3, 1000\n",
    "4, 1000"
   ]
  },
  {
   "cell_type": "code",
   "execution_count": 19,
   "metadata": {},
   "outputs": [
    {
     "data": {
      "text/plain": [
       "{1: 1000, 2: 1000, 3: 1000, 4: 1000}"
      ]
     },
     "execution_count": 19,
     "metadata": {},
     "output_type": "execute_result"
    }
   ],
   "source": [
    "data.load(filename='CR.csv', param=model.CR, index=model.P)\n",
    "data['CR']"
   ]
  },
  {
   "cell_type": "code",
   "execution_count": 20,
   "metadata": {
    "extensions": {
     "jupyter_dashboards": {
      "version": 1,
      "views": {
       "grid_default": {
        "hidden": true
       },
       "report_default": {}
      }
     }
    }
   },
   "outputs": [],
   "source": [
    "## param CC := \n",
    "## 1 15\n",
    "## 2 15 ;"
   ]
  },
  {
   "cell_type": "code",
   "execution_count": 21,
   "metadata": {},
   "outputs": [
    {
     "name": "stdout",
     "output_type": "stream",
     "text": [
      "Overwriting CC.csv\n"
     ]
    }
   ],
   "source": [
    "%%writefile CC.csv\n",
    "P, CC\n",
    "1, 15\n",
    "2, 15"
   ]
  },
  {
   "cell_type": "code",
   "execution_count": 22,
   "metadata": {},
   "outputs": [
    {
     "data": {
      "text/plain": [
       "{1: 15, 2: 15}"
      ]
     },
     "execution_count": 22,
     "metadata": {},
     "output_type": "execute_result"
    }
   ],
   "source": [
    "data.load(filename='CC.csv', param=model.CC, index=model.P)\n",
    "data['CC']"
   ]
  },
  {
   "cell_type": "code",
   "execution_count": 23,
   "metadata": {
    "extensions": {
     "jupyter_dashboards": {
      "version": 1,
      "views": {
       "grid_default": {
        "hidden": true
       },
       "report_default": {}
      }
     }
    }
   },
   "outputs": [],
   "source": [
    "## param Vo :=\n",
    "## 1 75\n",
    "## 2 75 ;"
   ]
  },
  {
   "cell_type": "code",
   "execution_count": 24,
   "metadata": {},
   "outputs": [
    {
     "name": "stdout",
     "output_type": "stream",
     "text": [
      "Overwriting Vo.csv\n"
     ]
    }
   ],
   "source": [
    "%%writefile Vo.csv\n",
    "HD, Vo\n",
    "1, 75\n",
    "2, 75"
   ]
  },
  {
   "cell_type": "code",
   "execution_count": 25,
   "metadata": {},
   "outputs": [
    {
     "data": {
      "text/plain": [
       "{1: 75, 2: 75}"
      ]
     },
     "execution_count": 25,
     "metadata": {},
     "output_type": "execute_result"
    }
   ],
   "source": [
    "data.load(filename='Vo.csv', param=model.Vo, index=model.HD)\n",
    "data['Vo']"
   ]
  },
  {
   "cell_type": "code",
   "execution_count": 26,
   "metadata": {
    "extensions": {
     "jupyter_dashboards": {
      "version": 1,
      "views": {
       "grid_default": {
        "hidden": true
       },
       "report_default": {}
      }
     }
    }
   },
   "outputs": [],
   "source": [
    "## param D :=\n",
    "## 1 80\n",
    "## 2 80\n",
    "## 3 80\n",
    "## 4 80 ;"
   ]
  },
  {
   "cell_type": "code",
   "execution_count": 27,
   "metadata": {
    "extensions": {
     "jupyter_dashboards": {
      "version": 1,
      "views": {
       "grid_default": {
        "hidden": true
       },
       "report_default": {
        "hidden": true
       }
      }
     }
    }
   },
   "outputs": [
    {
     "name": "stdout",
     "output_type": "stream",
     "text": [
      "Overwriting D.csv\n"
     ]
    }
   ],
   "source": [
    "%%writefile D.csv\n",
    "P, D\n",
    "1, 80\n",
    "2, 80\n",
    "3, 80\n",
    "4, 80"
   ]
  },
  {
   "cell_type": "code",
   "execution_count": 28,
   "metadata": {},
   "outputs": [
    {
     "data": {
      "text/plain": [
       "{1: 80, 2: 80, 3: 80, 4: 80}"
      ]
     },
     "execution_count": 28,
     "metadata": {},
     "output_type": "execute_result"
    }
   ],
   "source": [
    "data.load(filename='D.csv', param=model.D, index=model.P)\n",
    "data['D']"
   ]
  },
  {
   "cell_type": "code",
   "execution_count": 29,
   "metadata": {
    "extensions": {
     "jupyter_dashboards": {
      "version": 1,
      "views": {
       "grid_default": {
        "hidden": true
       },
       "report_default": {}
      }
     }
    }
   },
   "outputs": [],
   "source": [
    "## param A :=\n",
    "## 1 1 21\n",
    "## 2 1 14\n",
    "## 1 2 15\n",
    "## 2 2 8\n",
    "## 1 3 12\n",
    "## 2 3 5\n",
    "## 1 4 18\n",
    "## 2 4 11 ;"
   ]
  },
  {
   "cell_type": "code",
   "execution_count": 30,
   "metadata": {},
   "outputs": [
    {
     "name": "stdout",
     "output_type": "stream",
     "text": [
      "Overwriting A.csv\n"
     ]
    }
   ],
   "source": [
    "%%writefile A.csv\n",
    "HD, P, A\n",
    "1,  1, 21\n",
    "2,  1, 14\n",
    "1,  2, 15\n",
    "2,  2, 8\n",
    "1,  3, 12\n",
    "2,  3, 5\n",
    "1,  4, 18\n",
    "2,  4, 11 "
   ]
  },
  {
   "cell_type": "code",
   "execution_count": 31,
   "metadata": {},
   "outputs": [
    {
     "data": {
      "text/plain": [
       "{(1, 1): 21,\n",
       " (1, 2): 15,\n",
       " (1, 3): 12,\n",
       " (1, 4): 18,\n",
       " (2, 1): 14,\n",
       " (2, 2): 8,\n",
       " (2, 3): 5,\n",
       " (2, 4): 11}"
      ]
     },
     "execution_count": 31,
     "metadata": {},
     "output_type": "execute_result"
    }
   ],
   "source": [
    "data.load(filename='A.csv', param=model.A, index=(model.HD, model.P))\n",
    "data['A']"
   ]
  },
  {
   "cell_type": "code",
   "execution_count": 32,
   "metadata": {
    "extensions": {
     "jupyter_dashboards": {
      "version": 1,
      "views": {
       "grid_default": {
        "hidden": true
       },
       "report_default": {}
      }
     }
    }
   },
   "outputs": [],
   "source": [
    "## param QH := \n",
    "## 1 50 \n",
    "## 2 45 ;"
   ]
  },
  {
   "cell_type": "code",
   "execution_count": 37,
   "metadata": {},
   "outputs": [
    {
     "name": "stdout",
     "output_type": "stream",
     "text": [
      "Writing QH.csv\n"
     ]
    }
   ],
   "source": [
    "%%writefile QH.csv\n",
    "HD, QH\n",
    "1,  50 \n",
    "2,  45"
   ]
  },
  {
   "cell_type": "code",
   "execution_count": 38,
   "metadata": {},
   "outputs": [
    {
     "data": {
      "text/plain": [
       "{1: 50, 2: 45}"
      ]
     },
     "execution_count": 38,
     "metadata": {},
     "output_type": "execute_result"
    }
   ],
   "source": [
    "data.load(filename='QH.csv', param=model.QH, index=model.HD)\n",
    "data['QH']"
   ]
  },
  {
   "cell_type": "code",
   "execution_count": 33,
   "metadata": {
    "extensions": {
     "jupyter_dashboards": {
      "version": 1,
      "views": {
       "grid_default": {
        "col": 0,
        "height": 4,
        "hidden": false,
        "row": 62,
        "width": 4
       },
       "report_default": {}
      }
     }
    }
   },
   "outputs": [],
   "source": [
    "## param GM := \n",
    "## 1 45\n",
    "## 2 40 ;"
   ]
  },
  {
   "cell_type": "code",
   "execution_count": 39,
   "metadata": {},
   "outputs": [
    {
     "name": "stdout",
     "output_type": "stream",
     "text": [
      "Writing GM.csv\n"
     ]
    }
   ],
   "source": [
    "%%writefile GM.csv\n",
    "TM, GM\n",
    "1,  45\n",
    "2,  40 "
   ]
  },
  {
   "cell_type": "code",
   "execution_count": 40,
   "metadata": {},
   "outputs": [
    {
     "data": {
      "text/plain": [
       "{1: 45, 2: 40}"
      ]
     },
     "execution_count": 40,
     "metadata": {},
     "output_type": "execute_result"
    }
   ],
   "source": [
    "data.load(filename='GM.csv', param=model.GM, index=model.TM)\n",
    "data['GM']"
   ]
  },
  {
   "cell_type": "markdown",
   "metadata": {
    "extensions": {
     "jupyter_dashboards": {
      "version": 1,
      "views": {
       "grid_default": {
        "col": 4,
        "height": 4,
        "hidden": false,
        "row": 65,
        "width": 4
       },
       "report_default": {}
      }
     }
    }
   },
   "source": [
    "# Solucion"
   ]
  },
  {
   "cell_type": "code",
   "execution_count": 43,
   "metadata": {},
   "outputs": [
    {
     "data": {
      "text/plain": [
       "{'Problem': [{'Name': 'unknown', 'Lower bound': 990.0, 'Upper bound': 990.0, 'Number of objectives': 1, 'Number of constraints': 21, 'Number of variables': 37, 'Number of nonzeros': 59, 'Sense': 'minimize'}], 'Solver': [{'Status': 'ok', 'Termination condition': 'optimal', 'Statistics': {'Branch and bound': {'Number of bounded subproblems': 0, 'Number of created subproblems': 0}}, 'Error rc': 0, 'Time': 0.0139007568359375}], 'Solution': [OrderedDict([('number of solutions', 0), ('number of solutions displayed', 0)])]}"
      ]
     },
     "execution_count": 43,
     "metadata": {},
     "output_type": "execute_result"
    }
   ],
   "source": [
    "\n",
    "from pyomo.opt import SolverFactory\n",
    "\n",
    "opt = SolverFactory('glpk')\n",
    "\n",
    "instance = model.create_instance(data)\n",
    "\n",
    "results = opt.solve(instance)\n",
    "results"
   ]
  },
  {
   "cell_type": "code",
   "execution_count": 46,
   "metadata": {
    "extensions": {
     "jupyter_dashboards": {
      "version": 1,
      "views": {
       "grid_default": {
        "hidden": true
       },
       "report_default": {}
      }
     }
    }
   },
   "outputs": [
    {
     "name": "stdout",
     "output_type": "stream",
     "text": [
      "Model unknown\n",
      "\n",
      "  Variables:\n",
      "    R : Size=4, Index=P\n",
      "        Key : Lower : Value : Upper : Fixed : Stale : Domain\n",
      "          1 :     0 :   0.0 :  None : False : False : NonNegativeReals\n",
      "          2 :     0 :   0.0 :  None : False : False : NonNegativeReals\n",
      "          3 :     0 :   0.0 :  None : False : False : NonNegativeReals\n",
      "          4 :     0 :   0.0 :  None : False : False : NonNegativeReals\n",
      "    G : Size=8, Index=G_index\n",
      "        Key    : Lower : Value : Upper : Fixed : Stale : Domain\n",
      "        (1, 1) :     0 :   0.0 :  None : False : False : NonNegativeReals\n",
      "        (1, 2) :     0 :   0.0 :  None : False : False : NonNegativeReals\n",
      "        (2, 1) :     0 :   0.0 :  None : False : False : NonNegativeReals\n",
      "        (2, 2) :     0 :   0.0 :  None : False : False : NonNegativeReals\n",
      "        (3, 1) :     0 :   0.0 :  None : False : False : NonNegativeReals\n",
      "        (3, 2) :     0 :  15.0 :  None : False : False : NonNegativeReals\n",
      "        (4, 1) :     0 :  45.0 :  None : False : False : NonNegativeReals\n",
      "        (4, 2) :     0 :   6.0 :  None : False : False : NonNegativeReals\n",
      "    Q : Size=8, Index=Q_index\n",
      "        Key    : Lower : Value : Upper : Fixed : Stale : Domain\n",
      "        (1, 1) :     0 :  80.0 :  None : False : False : NonNegativeReals\n",
      "        (1, 2) :     0 :   0.0 :  None : False : False : NonNegativeReals\n",
      "        (2, 1) :     0 :  31.0 :  None : False : False : NonNegativeReals\n",
      "        (2, 2) :     0 :  49.0 :  None : False : False : NonNegativeReals\n",
      "        (3, 1) :     0 :  12.0 :  None : False : False : NonNegativeReals\n",
      "        (3, 2) :     0 :  53.0 :  None : False : False : NonNegativeReals\n",
      "        (4, 1) :     0 :  18.0 :  None : False : False : NonNegativeReals\n",
      "        (4, 2) :     0 :  11.0 :  None : False : False : NonNegativeReals\n",
      "    V : Size=8, Index=V_index\n",
      "        Key    : Lower : Value : Upper : Fixed : Stale : Domain\n",
      "        (1, 1) :     0 :  16.0 :  None : False : False : NonNegativeReals\n",
      "        (1, 2) :     0 :  89.0 :  None : False : False : NonNegativeReals\n",
      "        (2, 1) :     0 :   0.0 :  None : False : False : NonNegativeReals\n",
      "        (2, 2) :     0 :  48.0 :  None : False : False : NonNegativeReals\n",
      "        (3, 1) :     0 :   0.0 :  None : False : False : NonNegativeReals\n",
      "        (3, 2) :     0 :   0.0 :  None : False : False : NonNegativeReals\n",
      "        (4, 1) :     0 :   0.0 :  None : False : False : NonNegativeReals\n",
      "        (4, 2) :     0 :   0.0 :  None : False : False : NonNegativeReals\n",
      "    S : Size=8, Index=S_index\n",
      "        Key    : Lower : Value : Upper : Fixed : Stale : Domain\n",
      "        (1, 1) :     0 :   0.0 :  None : False : False : NonNegativeReals\n",
      "        (1, 2) :     0 :   0.0 :  None : False : False : NonNegativeReals\n",
      "        (2, 1) :     0 :   0.0 :  None : False : False : NonNegativeReals\n",
      "        (2, 2) :     0 :   0.0 :  None : False : False : NonNegativeReals\n",
      "        (3, 1) :     0 :   0.0 :  None : False : False : NonNegativeReals\n",
      "        (3, 2) :     0 :   0.0 :  None : False : False : NonNegativeReals\n",
      "        (4, 1) :     0 :   0.0 :  None : False : False : NonNegativeReals\n",
      "        (4, 2) :     0 :   0.0 :  None : False : False : NonNegativeReals\n",
      "\n",
      "  Objectives:\n",
      "    obj : Size=1, Index=None, Active=True\n",
      "        Key  : Active : Value\n",
      "        None :   True : 990.0\n",
      "\n",
      "  Constraints:\n",
      "    demanda : Size=4\n",
      "        Key : Lower : Body : Upper\n",
      "          1 :  80.0 : 80.0 :  80.0\n",
      "          2 :  80.0 : 80.0 :  80.0\n",
      "          3 :  80.0 : 80.0 :  80.0\n",
      "          4 :  80.0 : 80.0 :  80.0\n",
      "    continuidad : Size=8\n",
      "        Key    : Lower : Body : Upper\n",
      "        (1, 1) :  96.0 : 96.0 :  96.0\n",
      "        (1, 2) :  89.0 : 89.0 :  89.0\n",
      "        (2, 1) :  15.0 : 15.0 :  15.0\n",
      "        (2, 2) :   8.0 :  8.0 :   8.0\n",
      "        (3, 1) :  12.0 : 12.0 :  12.0\n",
      "        (3, 2) :   5.0 :  5.0 :   5.0\n",
      "        (4, 1) :  18.0 : 18.0 :  18.0\n",
      "        (4, 2) :  11.0 : 11.0 :  11.0\n",
      "    gtmax : Size=8\n",
      "        Key    : Lower : Body : Upper\n",
      "        (1, 1) :  None :  0.0 :  45.0\n",
      "        (1, 2) :  None :  0.0 :  40.0\n",
      "        (2, 1) :  None :  0.0 :  45.0\n",
      "        (2, 2) :  None :  0.0 :  40.0\n",
      "        (3, 1) :  None :  0.0 :  45.0\n",
      "        (3, 2) :  None : 15.0 :  40.0\n",
      "        (4, 1) :  None : 45.0 :  45.0\n",
      "        (4, 2) :  None :  6.0 :  40.0\n"
     ]
    }
   ],
   "source": [
    "instance.display()"
   ]
  },
  {
   "cell_type": "markdown",
   "metadata": {
    "extensions": {
     "jupyter_dashboards": {
      "version": 1,
      "views": {
       "grid_default": {
        "col": 0,
        "height": 11,
        "hidden": false,
        "row": 111,
        "width": 12
       },
       "report_default": {}
      }
     }
    }
   },
   "source": [
    "Planificación usando Pyomo - Parte 4\n",
    "===\n",
    "\n",
    "**Juan David Velásquez Henao**  \n",
    "jdvelasq@unal.edu.co   \n",
    "Universidad Nacional de Colombia, Sede Medellín  \n",
    "Facultad de Minas  \n",
    "Medellín, Colombia\n",
    "\n",
    "---\n",
    "\n",
    "Haga click [aquí](https://github.com/jdvelasq/workshop-asocio-2018/tree/master/) para acceder al repositorio online.\n",
    "\n",
    "Haga click [aquí](http://nbviewer.jupyter.org/github/jdvelasq/workshop-asocio-2018/tree/master/) para explorar el repositorio usando `nbviewer`. "
   ]
  }
 ],
 "metadata": {
  "extensions": {
   "jupyter_dashboards": {
    "activeView": "grid_default",
    "version": 1,
    "views": {
     "grid_default": {
      "cellMargin": 10,
      "defaultCellHeight": 20,
      "maxColumns": 12,
      "name": "grid",
      "type": "grid"
     },
     "report_default": {
      "name": "report",
      "type": "report"
     }
    }
   }
  },
  "kernelspec": {
   "display_name": "Python 3",
   "language": "python",
   "name": "python3"
  },
  "language_info": {
   "codemirror_mode": {
    "name": "ipython",
    "version": 3
   },
   "file_extension": ".py",
   "mimetype": "text/x-python",
   "name": "python",
   "nbconvert_exporter": "python",
   "pygments_lexer": "ipython3",
   "version": "3.6.4"
  }
 },
 "nbformat": 4,
 "nbformat_minor": 2
}
