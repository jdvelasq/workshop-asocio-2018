{
 "cells": [
  {
   "cell_type": "markdown",
   "metadata": {},
   "source": [
    "Markdown\n",
    "===\n",
    "\n",
    "**Juan David Velásquez Henao**  \n",
    "jdvelasq@unal.edu.co   \n",
    "Universidad Nacional de Colombia, Sede Medellín  \n",
    "Facultad de Minas  \n",
    "Medellín, Colombia\n",
    "\n",
    "---\n",
    "\n",
    "Haga click [aquí](https://github.com/jdvelasq/workshop-asocio-2018/tree/master/) para acceder al repositorio online.\n",
    "\n",
    "Haga click [aquí](http://nbviewer.jupyter.org/github/jdvelasq/workshop-asocio-2018/tree/master/) para explorar el repositorio usando `nbviewer`. "
   ]
  },
  {
   "cell_type": "markdown",
   "metadata": {},
   "source": [
    "---"
   ]
  },
  {
   "cell_type": "markdown",
   "metadata": {},
   "source": [
    "# Introducción\n",
    "\n",
    "* El formato de un libro de Jupyter se realiza usando Markdown. \n",
    "\n",
    "\n",
    "* La sintaxis explicada en este documento se aplica a los documentos creados en RStudio usando RMarkdown. \n",
    "\n",
    "\n",
    "* Haga click [aquí](https://daringfireball.net/projects/markdown/basics) para acceder a una guía de markdown y [aquí](http://jupyter-notebook.readthedocs.org/en/latest/examples/Notebook/rstversions/Working%20With%20Markdown%20Cells.html) a la documentación oficial sobre markdown en Jupyter. \n",
    "\n",
    "\n",
    "* IPython tiene opciones para visualizar salidas en latex y html (entre otros). Haga click [aquí](https://github.com/ipython/ipython-in-depth/blob/1905adca735c567884c5db8c1b6295b0e1d7a218/examples/IPython%20Kernel/Rich%20Output.ipynb) para acceder a un tutorial. \n",
    "\n",
    "\n",
    "* Los libros de Jupyter pueden visualizarse de forma estática en la web usando [nbviewer](http://nbviewer.jupyter.org)\n",
    "\n",
    "\n",
    "* Un tutorial completo sobre HTML se encuentra en [w3Schools](http://www.w3schools.com)\n",
    "\n"
   ]
  },
  {
   "cell_type": "markdown",
   "metadata": {},
   "source": [
    "<hr style=\"height:3px\">\n",
    "# Parágrafos, encabezados y citas"
   ]
  },
  {
   "cell_type": "raw",
   "metadata": {},
   "source": [
    "Encabezado de primer nivel\n",
    "==\n",
    "\n",
    "Encabezado de segundo nivel\n",
    "--\n",
    "\n",
    "### Encabezado de tercer nivel"
   ]
  },
  {
   "cell_type": "markdown",
   "metadata": {},
   "source": [
    "Encabezado de primer nivel\n",
    "==\n",
    "\n",
    "\n",
    "Encabezado de segundo nivel\n",
    "--\n",
    "\n",
    "### Encabezado de tercer nivel"
   ]
  },
  {
   "cell_type": "markdown",
   "metadata": {},
   "source": [
    "---"
   ]
  },
  {
   "cell_type": "raw",
   "metadata": {},
   "source": [
    "Markdown es un lenguaje de marcado ligero creado por John Gruber que \n",
    "trata de conseguir la máxima legibilidad y facilidad de publicación \n",
    "tanto en sus forma de entrada como de salida, inspirándose en \n",
    "muchas convenciones existentes para marcar mensajes de correo \n",
    "electrónico usando texto plano. \n",
    "\n",
    "> Markdown es un lenguaje de marcado ligero creado por John Gruber que \n",
    "trata de conseguir la máxima legibilidad y facilidad de publicación \n",
    "tanto en sus forma de entrada como de salida, inspirándose en \n",
    "muchas convenciones existentes para marcar mensajes de correo \n",
    "electrónico usando texto plano. "
   ]
  },
  {
   "cell_type": "markdown",
   "metadata": {},
   "source": [
    "<p>Markdown es un lenguaje de marcado ligero creado por John Gruber que \n",
    "trata de conseguir la máxima legibilidad y facilidad de publicación \n",
    "tanto en sus forma de entrada como de salida, inspirándose en \n",
    "muchas convenciones existentes para marcar mensajes de correo \n",
    "electrónico usando texto plano. </p>\n",
    "\n",
    "<blockquote>Markdown es un lenguaje de marcado ligero creado por John Gruber que \n",
    "trata de conseguir la máxima legibilidad y facilidad de publicación \n",
    "tanto en sus forma de entrada como de salida, inspirándose en \n",
    "muchas convenciones existentes para marcar mensajes de correo \n",
    "electrónico usando texto plano.\n",
    "</blockquote>\n",
    "\n",
    "<blockquote><div style=\"background-color:#DCDCDC; color:#000000; font-style: normal; font-family: Georgia;\">\n",
    "Markdown es un lenguaje de marcado ligero creado por John Gruber que \n",
    "trata de conseguir la máxima legibilidad y facilidad de publicación \n",
    "tanto en sus forma de entrada como de salida, inspirándose en \n",
    "muchas convenciones existentes para marcar mensajes de correo \n",
    "electrónico usando texto plano.\n",
    "</div></blockquote>"
   ]
  },
  {
   "cell_type": "markdown",
   "metadata": {},
   "source": [
    "<hr style=\"height:3px\">\n",
    "# Enfasis"
   ]
  },
  {
   "cell_type": "raw",
   "metadata": {},
   "source": [
    "Algunas de estas palabras son *enfatizadas*.\n",
    "\n",
    "Algunas de estas palabras también son _enfatizadas_.\n",
    "\n",
    "Use dos asteriscos para **énfasis fuerte**.\n",
    "\n",
    "O si lo prefiere dos __guiones bajos__.\n",
    "\n",
    "También se puede ~~tachar~~ palabras"
   ]
  },
  {
   "cell_type": "markdown",
   "metadata": {},
   "source": [
    "<p>Algunas de estas palabras son <em>enfatizadas</em>.</p>\n",
    "\n",
    "<p>Algunas de estas palabras también son <em>enfatizadas</em>.</p>\n",
    "\n",
    "<p>Use dos asteriscos para <strong>énfasis fuerte</strong>.</p>\n",
    "\n",
    "<p>O si lo prefiere dos <strong>guiones bajos</strong>.</p>"
   ]
  },
  {
   "cell_type": "markdown",
   "metadata": {},
   "source": [
    "<hr style=\"height:3px\">\n",
    "# Listas sin numeración"
   ]
  },
  {
   "cell_type": "raw",
   "metadata": {},
   "source": [
    "* Uno\n",
    "    + a\n",
    "    + b\n",
    "    + c\n",
    "* Dos\n",
    "* Tres"
   ]
  },
  {
   "cell_type": "markdown",
   "metadata": {},
   "source": [
    "* Uno\n",
    "    + a\n",
    "    + b\n",
    "    + c\n",
    "* Dos\n",
    "* Tres"
   ]
  },
  {
   "cell_type": "raw",
   "metadata": {},
   "source": [
    "+ Uno\n",
    "+ Dos \n",
    "+ Tres"
   ]
  },
  {
   "cell_type": "markdown",
   "metadata": {},
   "source": [
    "+ Uno\n",
    "+ Dos \n",
    "+ Tres"
   ]
  },
  {
   "cell_type": "raw",
   "metadata": {},
   "source": [
    "- Uno\n",
    "- Dos \n",
    "- Tres"
   ]
  },
  {
   "cell_type": "markdown",
   "metadata": {},
   "source": [
    "- Uno\n",
    "- Dos \n",
    "- Tres"
   ]
  },
  {
   "cell_type": "markdown",
   "metadata": {},
   "source": [
    "<hr style=\"height:3px\">\n",
    "# Listas enumeradas"
   ]
  },
  {
   "cell_type": "raw",
   "metadata": {},
   "source": [
    "1. Uno\n",
    "25. Dos\n",
    "3. Tres"
   ]
  },
  {
   "cell_type": "markdown",
   "metadata": {},
   "source": [
    "1. Uno\n",
    "25. Dos\n",
    "3. Tres"
   ]
  },
  {
   "cell_type": "raw",
   "metadata": {},
   "source": [
    "1. Uno  \n",
    "texto texto texto\n",
    "  \n",
    "1. Dos  \n",
    "texto texto texto\n",
    "\n",
    "3. Tres  \n",
    "texto texto texto"
   ]
  },
  {
   "cell_type": "markdown",
   "metadata": {},
   "source": [
    "1. Uno  \n",
    "texto texto texto\n",
    "  \n",
    "1. Dos  \n",
    "texto texto texto\n",
    "\n",
    "3. Tres  \n",
    "texto texto texto"
   ]
  },
  {
   "cell_type": "markdown",
   "metadata": {},
   "source": [
    "<hr style=\"height:3px\">\n",
    "# Vínculos"
   ]
  },
  {
   "cell_type": "raw",
   "metadata": {},
   "source": [
    "Este es un vínculo a [GOOGLE](http://www.google.com)."
   ]
  },
  {
   "cell_type": "markdown",
   "metadata": {},
   "source": [
    "<p>Este es un vínculo a <a href=\"http://www.google.com\">GOOGLE</a>.</p>"
   ]
  },
  {
   "cell_type": "markdown",
   "metadata": {},
   "source": [
    "<hr style=\"height:3px\">\n",
    "# Vínculos tipo referencia "
   ]
  },
  {
   "cell_type": "raw",
   "metadata": {},
   "source": [
    "Estos son vinculos referenciados a [Anaconda][1]  y [Python][2].\n",
    "\n",
    "[1]: https://www.continuum.io \"Continuum Analytics\"\n",
    "[2]: https://www.python.org \"Python Software Fundation\""
   ]
  },
  {
   "cell_type": "markdown",
   "metadata": {},
   "source": [
    "Estos son vinculos referenciados a [Anaconda][1]  y [Python][2].\n",
    "\n",
    "[1]: https://www.continuum.io \"Continuum Analytics\"\n",
    "[2]: https://www.python.org \"Python Software Fundation\""
   ]
  },
  {
   "cell_type": "markdown",
   "metadata": {},
   "source": [
    "<hr style=\"height:3px\">\n",
    "# Vínculos internos"
   ]
  },
  {
   "cell_type": "raw",
   "metadata": {},
   "source": [
    "[vínculo a la seccion de abajo](#Imágenes)"
   ]
  },
  {
   "cell_type": "markdown",
   "metadata": {},
   "source": [
    "[vínculo a la seccion de abajo](#Imágenes)"
   ]
  },
  {
   "cell_type": "raw",
   "metadata": {},
   "source": [
    "blah blah blah  \n",
    "blah blah blah  \n",
    "blah blah blah  \n",
    "blah blah blah  \n",
    "blah blah blah  "
   ]
  },
  {
   "cell_type": "markdown",
   "metadata": {},
   "source": [
    "<hr style=\"height:3px\">\n",
    "# Imágenes"
   ]
  },
  {
   "cell_type": "raw",
   "metadata": {},
   "source": [
    "![alt text](img_avatar1.png)  "
   ]
  },
  {
   "cell_type": "markdown",
   "metadata": {},
   "source": [
    "![alt text](img_avatar1.png)  "
   ]
  },
  {
   "cell_type": "markdown",
   "metadata": {},
   "source": [
    "**PDF enbebido usando HTML**"
   ]
  },
  {
   "cell_type": "raw",
   "metadata": {},
   "source": [
    "![alt text](img_avatar1.pdf) "
   ]
  },
  {
   "cell_type": "markdown",
   "metadata": {},
   "source": [
    "![alt text](img_avatar1.pdf) "
   ]
  },
  {
   "cell_type": "markdown",
   "metadata": {},
   "source": [
    "<hr style=\"height:3px\">\n",
    "# Código fuente y salida de programas"
   ]
  },
  {
   "cell_type": "raw",
   "metadata": {},
   "source": [
    "Se pueden crear bloques de código:\n",
    "\n",
    "    # agregar cuatro espacios al principio de linea\n",
    "    for (i = 1; i < 5; i++)\n",
    "    {\n",
    "        printf('%d', i)\n",
    "    }\n",
    "    \n",
    "O se puede colocar código en linea `cat out.1 out.2`.\n",
    "\n",
    "```\n",
    "Sample output from a computer program\n",
    "```"
   ]
  },
  {
   "cell_type": "markdown",
   "metadata": {},
   "source": [
    "Se pueden crear bloques de código:\n",
    "\n",
    "\n",
    "    # agregar cuatro espacios al principio de linea\n",
    "    for (i = 1; i < 5; i++)\n",
    "    {\n",
    "        printf('%d', i)\n",
    "    }\n",
    "\n",
    "\n",
    "\n",
    "\n",
    "O se puede colocar código en linea <code>cat out.1 out.2</code>.\n",
    "\n",
    "\n",
    "Sample output from a computer program"
   ]
  },
  {
   "cell_type": "markdown",
   "metadata": {},
   "source": [
    "---"
   ]
  },
  {
   "cell_type": "markdown",
   "metadata": {},
   "source": [
    "<center>**GitHub Flavored Markdown**\n",
    "\n",
    "Se puede indicar el lenguaje y el sistema agrega sintaxis de colores."
   ]
  },
  {
   "cell_type": "raw",
   "metadata": {},
   "source": [
    "Ejemplo de código en linea:\n",
    "```javascript\n",
    "function fancyAlert(arg) {\n",
    "  if(arg) {\n",
    "    $.facebox({div:'#foo'})\n",
    "  }\n",
    "}\n",
    "```"
   ]
  },
  {
   "cell_type": "markdown",
   "metadata": {},
   "source": [
    "Ejemplo de código en línea:\n",
    "```javascript\n",
    "function fancyAlert(arg) {\n",
    "  if(arg) {\n",
    "    $.facebox({div:'#foo'})\n",
    "  }\n",
    "}\n",
    "```"
   ]
  },
  {
   "cell_type": "markdown",
   "metadata": {},
   "source": [
    "<hr style=\"height:3px\">\n",
    "# Latex"
   ]
  },
  {
   "cell_type": "markdown",
   "metadata": {},
   "source": [
    "Una guía completa sobre latex puede ser encontrada [aquí](http://ftp.ams.org/pub/tex/doc/amsmath/short-math-guide.pdf)."
   ]
  },
  {
   "cell_type": "raw",
   "metadata": {},
   "source": [
    "$$x^2$$"
   ]
  },
  {
   "cell_type": "markdown",
   "metadata": {},
   "source": [
    "$$x^2$$"
   ]
  },
  {
   "cell_type": "raw",
   "metadata": {},
   "source": [
    "$$\\frac{1}{x^2} \\int{\\exp{x^n}} dx$$"
   ]
  },
  {
   "cell_type": "markdown",
   "metadata": {},
   "source": [
    "$$\\frac{1}{x^2} \\int{\\exp{x^n}} dx$$"
   ]
  },
  {
   "cell_type": "markdown",
   "metadata": {},
   "source": [
    "<hr style=\"height:3px\">\n",
    "# Tablas"
   ]
  },
  {
   "cell_type": "raw",
   "metadata": {},
   "source": [
    "titulo 1 MUY MUY LARGO | titulo 2\n",
    ":--------: | -------\n",
    "celda 1-1 | celda 1-2\n",
    "celda 2-1 | celda 2-2"
   ]
  },
  {
   "cell_type": "markdown",
   "metadata": {},
   "source": [
    "titulo 1 MUY MUY LARGO | titulo 2\n",
    ":--------: | -------\n",
    "celda 1-1 | celda 1-2\n",
    "celda 2-1 | celda 2-2"
   ]
  },
  {
   "cell_type": "markdown",
   "metadata": {},
   "source": [
    "<hr style=\"height:3px\">\n",
    "# Lineas horizontales"
   ]
  },
  {
   "cell_type": "raw",
   "metadata": {},
   "source": [
    "***\n",
    "\n",
    "---"
   ]
  },
  {
   "cell_type": "markdown",
   "metadata": {},
   "source": [
    "***\n",
    "\n",
    "---"
   ]
  },
  {
   "cell_type": "markdown",
   "metadata": {},
   "source": [
    "<hr style=\"height:1px\">\n",
    "\n",
    "<hr style=\"height:1px;background-color:red\">\n",
    "\n",
    "<hr style=\"height:3px;border:3px dotted;color:black;background-color:red;\">"
   ]
  },
  {
   "cell_type": "markdown",
   "metadata": {},
   "source": [
    "---"
   ]
  },
  {
   "cell_type": "markdown",
   "metadata": {},
   "source": [
    "Markdown\n",
    "===\n",
    "\n",
    "**Juan David Velásquez Henao**  \n",
    "jdvelasq@unal.edu.co   \n",
    "Universidad Nacional de Colombia, Sede Medellín  \n",
    "Facultad de Minas  \n",
    "Medellín, Colombia\n",
    "\n",
    "---\n",
    "\n",
    "Haga click [aquí](https://github.com/jdvelasq/workshop-asocio-2018/tree/master/) para acceder al repositorio online.\n",
    "\n",
    "Haga click [aquí](http://nbviewer.jupyter.org/github/jdvelasq/workshop-asocio-2018/tree/master/) para explorar el repositorio usando `nbviewer`. "
   ]
  }
 ],
 "metadata": {
  "kernel_info": {
   "name": "python3"
  },
  "kernelspec": {
   "display_name": "Python 3",
   "language": "python",
   "name": "python3"
  },
  "language_info": {
   "codemirror_mode": {
    "name": "ipython",
    "version": 3
   },
   "file_extension": ".py",
   "mimetype": "text/x-python",
   "name": "python",
   "nbconvert_exporter": "python",
   "pygments_lexer": "ipython3",
   "version": "3.6.4"
  },
  "nteract": {
   "version": "0.7.1"
  }
 },
 "nbformat": 4,
 "nbformat_minor": 1
}
