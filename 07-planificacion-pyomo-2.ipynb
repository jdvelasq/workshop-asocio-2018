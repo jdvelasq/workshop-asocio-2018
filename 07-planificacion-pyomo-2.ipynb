{
 "cells": [
  {
   "cell_type": "markdown",
   "metadata": {},
   "source": [
    "Planificación usando Pyomo - Parte 2\n",
    "===\n",
    "\n",
    "**Juan David Velásquez Henao**  \n",
    "jdvelasq@unal.edu.co   \n",
    "Universidad Nacional de Colombia, Sede Medellín  \n",
    "Facultad de Minas  \n",
    "Medellín, Colombia\n",
    "\n",
    "---\n",
    "\n",
    "Haga click [aquí](https://github.com/jdvelasq/workshop-asocio-2018/tree/master/) para acceder al repositorio online.\n",
    "\n",
    "Haga click [aquí](http://nbviewer.jupyter.org/github/jdvelasq/workshop-asocio-2018/tree/master/) para explorar el repositorio usando `nbviewer`. "
   ]
  },
  {
   "cell_type": "markdown",
   "metadata": {},
   "source": [
    "### Definición del problema"
   ]
  },
  {
   "cell_type": "markdown",
   "metadata": {},
   "source": [
    " \n",
    " \n",
    "* **Planificacion:**    4 etapas. \n",
    "\n",
    "* **Plantas hidraulicas:**\n",
    "\n",
    "\n",
    "\n",
    "| Planta | Vol Max | Factor | Vol Inicial |  \n",
    "|:------:|:-------:|:------:|:-----------:|\n",
    "|   1    | 100     |  1.0   |    75       |\n",
    "|   2    | 100     |  1.0   |    75       |\n",
    "\n",
    "* **Aportes:**\n",
    "\n",
    "| Planta | Etapa | Aportes |\n",
    "|:------:|:-----:|:-------:|\n",
    "|    1   |   1   |   21    |\n",
    "|    1   |   2   |   15    |\n",
    "|    1   |   3   |   12    |\n",
    "|    1   |   4   |   18    |\n",
    "|    2   |   1   |   14    |\n",
    "|    2   |   2   |    8    |\n",
    "|    2   |   3   |    5    |\n",
    "|    2   |   4   |   11    |\n",
    "\n",
    "\n",
    "\n",
    "* **Plantas térmicas:**\n",
    "\n",
    "| Planta | Gen máxima | Costo Combustible |\n",
    "|:------:|:----------:|:-----------------:|\n",
    "|   1    |    40      |      15           | \n",
    "|   2    |    45      |      15           |  \n",
    "    \n",
    "    \n",
    " \n",
    " \n",
    "* **Racionamiento:**   \n",
    "    * Costo racionamiento (CR) = 1000 para todas las etapas. \n",
    " \n",
    " \n",
    "* **Demanda:**  50 para todas las etapas \n",
    " "
   ]
  },
  {
   "cell_type": "markdown",
   "metadata": {
    "collapsed": true
   },
   "source": [
    "### Inicialización de Pyomo"
   ]
  },
  {
   "cell_type": "code",
   "execution_count": 1,
   "metadata": {},
   "outputs": [
    {
     "name": "stdout",
     "output_type": "stream",
     "text": [
      "Writing model.py\n"
     ]
    }
   ],
   "source": [
    "%%writefile model.py\n",
    "\n",
    "from pyomo.environ import *\n",
    "\n",
    "model = ConcreteModel()\n"
   ]
  },
  {
   "cell_type": "markdown",
   "metadata": {},
   "source": [
    "### Datos de entrada del modelo"
   ]
  },
  {
   "cell_type": "code",
   "execution_count": 2,
   "metadata": {},
   "outputs": [
    {
     "name": "stdout",
     "output_type": "stream",
     "text": [
      "Appending to model.py\n"
     ]
    }
   ],
   "source": [
    "%%writefile -a model.py\n",
    "\n",
    "## Definicion de variables en Pyomo\n",
    "\n",
    "## Etapas\n",
    "P  = range(4)   # 4 etapas\n",
    "HD = range(2)   # 2 plantas hidro\n",
    "TM = range(2)   # 2 plantas termicas\n",
    "\n",
    "\n",
    "## etapas:\n",
    "##       1     2     3     4       ## variable\n",
    "## ----------------------------------------------------------\n",
    "\n",
    "## costos de racionamiento \n",
    "CR = [ 1000.,   # etapa 1 \n",
    "       1000.,   # etapa 2\n",
    "       1000.,   # etapa 3\n",
    "       1000.]   # etapa 4\n",
    "\n",
    "## demanda de energia\n",
    "D  = [ 50.,  # etapa 1  \n",
    "       50.,  # etapa 2  \n",
    "       50.,  # etapa 3 \n",
    "       50.]  # etapa 4    \n",
    "\n",
    "## costo de combustibles\n",
    "CC = [ 15,  # planta termica 1  \n",
    "       15]  # planta termica 2 \n",
    "\n",
    "## generación termica maxima\n",
    "G = [  45,  # planta termica 1\n",
    "       40]  # planta termica 2  \n",
    "\n",
    "## volumen inicial\n",
    "Vo = [ 75,  # planta hidro 1\n",
    "       75]  # planta hidro 2      \n",
    "\n",
    "## caudal máximo turbinado\n",
    "Q = [ 50,   # planta hidro 1\n",
    "      45]   # planta hidro 2\n",
    "\n",
    "\n",
    "## Aporter hidrologicos         \n",
    "A = {(1, 1):21, # (planta hidro 1, etapa) : aporte\n",
    "     (1, 2):15, #\n",
    "     (1, 3):12, #\n",
    "     (1, 4):18, #\n",
    "     (2, 1):14, # (planta hidro 2, etapa) : aporte\n",
    "     (2, 2):8,  #\n",
    "     (2, 3):5,  #\n",
    "     (2, 4):11} # "
   ]
  },
  {
   "cell_type": "markdown",
   "metadata": {},
   "source": [
    "### Creacion de las variables"
   ]
  },
  {
   "cell_type": "code",
   "execution_count": 3,
   "metadata": {},
   "outputs": [
    {
     "name": "stdout",
     "output_type": "stream",
     "text": [
      "Appending to model.py\n"
     ]
    }
   ],
   "source": [
    "%%writefile -a model.py\n",
    "\n",
    "## energia[etapas]\n",
    "model.R = Var(P, within=NonNegativeReals)                              \n",
    "\n",
    "## generacion_termica[etapa, planta_termica]\n",
    "model.G = Var(P, TM, within=NonNegativeReals)                             \n",
    "\n",
    "## caudal_turbinado[etapa, planta_hidro]\n",
    "model.Q = Var(P, HD, within=NonNegativeReals)\n",
    "\n",
    "## volumen_final[etapa, planta_hidro]\n",
    "model.V = Var(P, HD, within=NonNegativeReals)\n",
    "\n",
    "# vertimientos[etapa, planta_hidro]\n",
    "model.S = Var(P, HD, within=NonNegativeReals)\n"
   ]
  },
  {
   "cell_type": "markdown",
   "metadata": {},
   "source": [
    "### Funcion objetivo"
   ]
  },
  {
   "cell_type": "markdown",
   "metadata": {},
   "source": [
    "La funcion objetivo busca minimizar el costo total del racionamiento mas el costo total de la generacion termica:\n",
    "\n",
    "\n",
    "$$\\text{minimize} ~ \\sum_{p=1}^{P} ~\\Bigg\\{ CR * R_p + \\sum_{t=1}^T CC_t * GT_{p,t} ~\\Bigg\\}$$\n",
    "\n",
    "\n",
    "\n",
    "\n",
    "\n"
   ]
  },
  {
   "cell_type": "code",
   "execution_count": 4,
   "metadata": {},
   "outputs": [
    {
     "name": "stdout",
     "output_type": "stream",
     "text": [
      "Appending to model.py\n"
     ]
    }
   ],
   "source": [
    "%%writefile -a model.py\n",
    "\n",
    "## Definicion de la funcion objetivo\n",
    "#                                 costo              costo generacion\n",
    "#                                 racionamiento      termica \n",
    "model.obj = Objective(expr = sum( CR[i]*model.R[i] + sum( CC[j]*model.G[i, j] for j in TM) for i in P ))\n"
   ]
  },
  {
   "cell_type": "markdown",
   "metadata": {},
   "source": [
    "### Demanda\n",
    "\n",
    "Por cada periodo de tiempo $p$ debe cumplirse que:\n",
    "\n",
    "$$ R_p + \\Bigg\\{ \\sum_{h=1}^H \\rho_h * Q_{hp} \\Bigg\\} + \\Bigg\\{ \\sum_{t=1}^T GT_{t p} \\Bigg\\} = dem_p$$\n"
   ]
  },
  {
   "cell_type": "code",
   "execution_count": 5,
   "metadata": {},
   "outputs": [
    {
     "name": "stdout",
     "output_type": "stream",
     "text": [
      "Appending to model.py\n"
     ]
    }
   ],
   "source": [
    "%%writefile -a model.py\n",
    "\n",
    "## una restriccion por cada etapa\n",
    "def demanda_rule(model, p):\n",
    "        #      racionamiento  gen. termica                    gen hidro\n",
    "        return model.R[p]  +  sum(model.G[p,j] for j in TM) + sum(model.Q[p,j] for j in HD)== D[p]\n",
    "\n",
    "## crea una regla por cada etapa    \n",
    "model.demanda = Constraint(P, rule=demanda_rule)\n",
    "\n"
   ]
  },
  {
   "cell_type": "markdown",
   "metadata": {},
   "source": [
    "### Continuidad de los volumenes de los embalses\n",
    "\n",
    "Para el primer periodo, el embalse inicial $Vol_{h,0}$ es conocido, entonces:\n",
    "\n",
    "$$Vol_{h,1} +Q_{h,1}+Ver_{h,1}=A_{h,1}+ Vol_{h,0}$$"
   ]
  },
  {
   "cell_type": "code",
   "execution_count": 6,
   "metadata": {},
   "outputs": [
    {
     "name": "stdout",
     "output_type": "stream",
     "text": [
      "Appending to model.py\n"
     ]
    }
   ],
   "source": [
    "%%writefile -a model.py\n",
    "\n",
    "# una restriccion por cada etapa, por cada planta hidro\n",
    "def continuidad_rule(model, p, hd):\n",
    "    if P[p] == 0 :\n",
    "        #      volumen         caudal          vertimientos     volumen inicial\n",
    "        #      final           turbinado                        aportes\n",
    "        return model.V[p,hd] + model.Q[p,hd] + model.S[p,hd] == Vo[hd]+ A[hd+1,1]     \n",
    "    else:\n",
    "        #       volumen           volumen         caudal          vertimmientos     aportes\n",
    "        #       inicial           final           turbinado               \n",
    "        return -model.V[p-1,hd] + model.V[p,hd] + model.Q[p,hd] + model.S[p,hd] ==  A[hd+1,p+1]    \n",
    "\n",
    "model.continuidad = Constraint(P, HD, rule=continuidad_rule)\n"
   ]
  },
  {
   "cell_type": "markdown",
   "metadata": {},
   "source": [
    "### Caudal turbinado máximo"
   ]
  },
  {
   "cell_type": "code",
   "execution_count": 7,
   "metadata": {},
   "outputs": [
    {
     "name": "stdout",
     "output_type": "stream",
     "text": [
      "Appending to model.py\n"
     ]
    }
   ],
   "source": [
    "%%writefile -a model.py\n",
    "\n",
    "## una regla por cada etapa y cada planta hidro\n",
    "def qmax_rule(model, p, HD):\n",
    "    return model.Q[p, HD] <= Q[HD]\n",
    "\n",
    "model.qmax = Constraint(P, HD, rule = qmax_rule)\n"
   ]
  },
  {
   "cell_type": "markdown",
   "metadata": {},
   "source": [
    "### Generacion térmica máxima"
   ]
  },
  {
   "cell_type": "code",
   "execution_count": 8,
   "metadata": {},
   "outputs": [
    {
     "name": "stdout",
     "output_type": "stream",
     "text": [
      "Appending to model.py\n"
     ]
    }
   ],
   "source": [
    "%%writefile -a model.py\n",
    "\n",
    "def gtmax_rule(model, p, TM):\n",
    "    return model.G[p, TM] <= G[TM]\n",
    "\n",
    "model.gtmax = Constraint(P, TM, rule = gtmax_rule)"
   ]
  },
  {
   "cell_type": "markdown",
   "metadata": {},
   "source": [
    "### Solución"
   ]
  },
  {
   "cell_type": "code",
   "execution_count": 9,
   "metadata": {},
   "outputs": [
    {
     "name": "stdout",
     "output_type": "stream",
     "text": [
      "[    0.00] Setting up Pyomo environment\n",
      "[    0.00] Applying Pyomo preprocessing actions\n",
      "[    0.01] Creating model\n",
      "[    0.01] Applying solver\n",
      "[    0.02] Processing results\n",
      "    Number of solutions: 1\n",
      "    Solution Information\n",
      "      Gap: 0.0\n",
      "      Status: feasible\n",
      "      Function Value: 990.0\n",
      "    Solver results file: results.yml\n",
      "[    0.02] Applying Pyomo postprocessing actions\n",
      "[    0.02] Pyomo Finished\n"
     ]
    }
   ],
   "source": [
    "!pyomo solve --solver=glpk model.py"
   ]
  },
  {
   "cell_type": "code",
   "execution_count": 10,
   "metadata": {
    "scrolled": false
   },
   "outputs": [
    {
     "name": "stdout",
     "output_type": "stream",
     "text": [
      "# ==========================================================\r\n",
      "# = Solver Results                                         =\r\n",
      "# ==========================================================\r\n",
      "# ----------------------------------------------------------\r\n",
      "#   Problem Information\r\n",
      "# ----------------------------------------------------------\r\n",
      "Problem: \r\n",
      "- Name: unknown\r\n",
      "  Lower bound: 990.0\r\n",
      "  Upper bound: 990.0\r\n",
      "  Number of objectives: 1\r\n",
      "  Number of constraints: 29\r\n",
      "  Number of variables: 37\r\n",
      "  Number of nonzeros: 67\r\n",
      "  Sense: minimize\r\n",
      "# ----------------------------------------------------------\r\n",
      "#   Solver Information\r\n",
      "# ----------------------------------------------------------\r\n",
      "Solver: \r\n",
      "- Status: ok\r\n",
      "  Termination condition: optimal\r\n",
      "  Statistics: \r\n",
      "    Branch and bound: \r\n",
      "      Number of bounded subproblems: 0\r\n",
      "      Number of created subproblems: 0\r\n",
      "  Error rc: 0\r\n",
      "  Time: 0.008816957473754883\r\n",
      "# ----------------------------------------------------------\r\n",
      "#   Solution Information\r\n",
      "# ----------------------------------------------------------\r\n",
      "Solution: \r\n",
      "- number of solutions: 1\r\n",
      "  number of solutions displayed: 1\r\n",
      "- Gap: 0.0\r\n",
      "  Status: feasible\r\n",
      "  Message: None\r\n",
      "  Objective:\r\n",
      "    obj:\r\n",
      "      Value: 990\r\n",
      "  Variable:\r\n",
      "    G[2,1]:\r\n",
      "      Value: 15\r\n",
      "    G[3,0]:\r\n",
      "      Value: 45\r\n",
      "    G[3,1]:\r\n",
      "      Value: 6\r\n",
      "    Q[0,0]:\r\n",
      "      Value: 50\r\n",
      "    Q[0,1]:\r\n",
      "      Value: 30\r\n",
      "    Q[1,0]:\r\n",
      "      Value: 50\r\n",
      "    Q[1,1]:\r\n",
      "      Value: 30\r\n",
      "    Q[2,0]:\r\n",
      "      Value: 23\r\n",
      "    Q[2,1]:\r\n",
      "      Value: 42\r\n",
      "    Q[3,0]:\r\n",
      "      Value: 18\r\n",
      "    Q[3,1]:\r\n",
      "      Value: 11\r\n",
      "    V[0,0]:\r\n",
      "      Value: 46\r\n",
      "    V[0,1]:\r\n",
      "      Value: 59\r\n",
      "    V[1,0]:\r\n",
      "      Value: 11\r\n",
      "    V[1,1]:\r\n",
      "      Value: 37\r\n",
      "  Constraint: No values\r\n"
     ]
    }
   ],
   "source": [
    "!cat results.yml"
   ]
  },
  {
   "cell_type": "code",
   "execution_count": 11,
   "metadata": {
    "collapsed": true
   },
   "outputs": [],
   "source": [
    "!rm model.py results.yml"
   ]
  },
  {
   "cell_type": "markdown",
   "metadata": {},
   "source": [
    "Planificación usando Pyomo - Parte 2\n",
    "===\n",
    "\n",
    "**Juan David Velásquez Henao**  \n",
    "jdvelasq@unal.edu.co   \n",
    "Universidad Nacional de Colombia, Sede Medellín  \n",
    "Facultad de Minas  \n",
    "Medellín, Colombia\n",
    "\n",
    "---\n",
    "\n",
    "Haga click [aquí](https://github.com/jdvelasq/workshop-asocio-2018/tree/master/) para acceder al repositorio online.\n",
    "\n",
    "Haga click [aquí](http://nbviewer.jupyter.org/github/jdvelasq/workshop-asocio-2018/tree/master/) para explorar el repositorio usando `nbviewer`. "
   ]
  }
 ],
 "metadata": {
  "kernelspec": {
   "display_name": "Python 3",
   "language": "python",
   "name": "python3"
  },
  "language_info": {
   "codemirror_mode": {
    "name": "ipython",
    "version": 3
   },
   "file_extension": ".py",
   "mimetype": "text/x-python",
   "name": "python",
   "nbconvert_exporter": "python",
   "pygments_lexer": "ipython3",
   "version": "3.6.4"
  }
 },
 "nbformat": 4,
 "nbformat_minor": 2
}
