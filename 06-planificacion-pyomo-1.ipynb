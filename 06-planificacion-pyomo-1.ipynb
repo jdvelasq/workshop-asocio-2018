{
 "cells": [
  {
   "cell_type": "markdown",
   "metadata": {},
   "source": [
    "Planificación usando Pyomo - Parte 1\n",
    "===\n",
    "\n",
    "**Juan David Velásquez Henao**  \n",
    "jdvelasq@unal.edu.co   \n",
    "Universidad Nacional de Colombia, Sede Medellín  \n",
    "Facultad de Minas  \n",
    "Medellín, Colombia\n",
    "\n",
    "---\n",
    "\n",
    "Haga click [aquí](https://github.com/jdvelasq/workshop-asocio-2018/tree/master/) para acceder al repositorio online.\n",
    "\n",
    "Haga click [aquí](http://nbviewer.jupyter.org/github/jdvelasq/workshop-asocio-2018/tree/master/) para explorar el repositorio usando `nbviewer`. "
   ]
  },
  {
   "cell_type": "markdown",
   "metadata": {},
   "source": [
    " ### Descripción del problema\n",
    "\n",
    "Se desea realizar el planeamiento de la operacion de un sistema hidrotermico conformado por una planta hidraulica y otra termica. \n",
    " \n",
    "* **Planificacion:**    4 etapas. \n",
    "\n",
    "\n",
    "* **Planta hidraulica:**    \n",
    "    * Vol. maximo (V*) = 100.\n",
    "    * Caudal max. turbinado (Q*) = 50.\n",
    "    * Factor conversion ($\\rho$) = 1.\n",
    "    * Aporte por etapa ($A_i$) = = {21, 15, 12, 18}.\n",
    "    * Volumen inicial ($V_o$) = 75.  \n",
    "    \n",
    "    \n",
    "* **Planta termica:**    \n",
    "    * Generacion maxima (G*) = 45\n",
    "    * Costo combustible (CC) = 15. \n",
    " \n",
    " \n",
    "* **Racionamiento:**   \n",
    "    * Costo racionamiento (CR) = 1000 para todas las etapas. \n",
    " \n",
    " \n",
    "* **Demanda:**  50 para todas las etapas \n",
    " "
   ]
  },
  {
   "cell_type": "markdown",
   "metadata": {
    "collapsed": true
   },
   "source": [
    "### Inicialización de Pyomo"
   ]
  },
  {
   "cell_type": "code",
   "execution_count": 1,
   "metadata": {},
   "outputs": [
    {
     "name": "stdout",
     "output_type": "stream",
     "text": [
      "Writing model.py\n"
     ]
    }
   ],
   "source": [
    "%%writefile model.py\n",
    "\n",
    "## Importacion de librerias\n",
    "# from coopr.pyomo import *\n",
    "from pyomo.environ import *\n",
    "\n",
    "## Creando un modelo especifico Pyomo\n",
    "model = ConcreteModel()\n"
   ]
  },
  {
   "cell_type": "markdown",
   "metadata": {},
   "source": [
    "### Definicion de variables"
   ]
  },
  {
   "cell_type": "code",
   "execution_count": 2,
   "metadata": {},
   "outputs": [
    {
     "name": "stdout",
     "output_type": "stream",
     "text": [
      "Appending to model.py\n"
     ]
    }
   ],
   "source": [
    "%%writefile -a model.py\n",
    "\n",
    "## Energia racionada por etapa\n",
    "model.R_1 = Var(within=NonNegativeReals)\n",
    "model.R_2 = Var(within=NonNegativeReals)\n",
    "model.R_3 = Var(within=NonNegativeReals)\n",
    "model.R_4 = Var(within=NonNegativeReals)\n",
    "\n",
    "## Generacion termica por etapa (solo hay una termica)\n",
    "model.GT_1 = Var(within=NonNegativeReals)\n",
    "model.GT_2 = Var(within=NonNegativeReals)\n",
    "model.GT_3 = Var(within=NonNegativeReals)\n",
    "model.GT_4 = Var(within=NonNegativeReals)\n",
    "\n",
    "## Caudal turbinado por etapa (solo hay una hidro)\n",
    "\n",
    "model.Q_1 = Var(within=NonNegativeReals)\n",
    "model.Q_2 = Var(within=NonNegativeReals)\n",
    "model.Q_3 = Var(within=NonNegativeReals)\n",
    "model.Q_4 = Var(within=NonNegativeReals)\n",
    " \n",
    "## Volumen final por etapa (solo hay una hidro)\n",
    "model.V_1 = Var(within=NonNegativeReals)\n",
    "model.V_2 = Var(within=NonNegativeReals)\n",
    "model.V_3 = Var(within=NonNegativeReals)\n",
    "model.V_4 = Var(within=NonNegativeReals)\n",
    "\n",
    "## Vertimiento por etapa (solo hay una hidro)\n",
    "model.S_1 = Var(within=NonNegativeReals)\n",
    "model.S_2 = Var(within=NonNegativeReals)\n",
    "model.S_3 = Var(within=NonNegativeReals)\n",
    "model.S_4 = Var(within=NonNegativeReals)\n"
   ]
  },
  {
   "cell_type": "markdown",
   "metadata": {},
   "source": [
    "### Funcion objetivo"
   ]
  },
  {
   "cell_type": "markdown",
   "metadata": {},
   "source": [
    "La funcion objetivo busca minimizar el costo total del racionamiento mas el costo total de la generacion termica:\n",
    "\n",
    "\n",
    "$$\\text{minimize} ~ \\sum_{p=1}^{P} ~\\Bigg\\{ CR * DEF_p + \\sum_{t=1}^T CC_t * GT_{p,t} ~\\Bigg\\}$$\n",
    "\n",
    "\n",
    "\n",
    "\n",
    "\n"
   ]
  },
  {
   "cell_type": "code",
   "execution_count": 3,
   "metadata": {},
   "outputs": [
    {
     "name": "stdout",
     "output_type": "stream",
     "text": [
      "Appending to model.py\n"
     ]
    }
   ],
   "source": [
    "%%writefile -a model.py\n",
    "\n",
    "## Definicion de la funcion objetivo\n",
    "model.obj = Objective(expr = 1000*model.R_1 + 15*model.GT_1 + \n",
    "                             1000*model.R_2 + 15*model.GT_2 + \n",
    "                             1000*model.R_3 + 15*model.GT_3 + \n",
    "                             1000*model.R_4 + 15*model.GT_4)\n"
   ]
  },
  {
   "cell_type": "markdown",
   "metadata": {},
   "source": [
    "### Demanda\n",
    "\n",
    "Por cada periodo de tiempo $p$ debe cumplirse que:\n",
    "\n",
    "$$ R_p + \\Bigg\\{ \\sum_{h=1}^H \\rho_h * Q_{hp} \\Bigg\\} + \\Bigg\\{ \\sum_{t=1}^T GT_{t p} \\Bigg\\} = dem_p$$\n"
   ]
  },
  {
   "cell_type": "code",
   "execution_count": 4,
   "metadata": {},
   "outputs": [
    {
     "name": "stdout",
     "output_type": "stream",
     "text": [
      "Appending to model.py\n"
     ]
    }
   ],
   "source": [
    "%%writefile -a model.py\n",
    "\n",
    "## una restriccion de demanda por cada etapa\n",
    "model.demanda_1 = Constraint(expr = model.R_1 + model.GT_1 + model.Q_1 == 50) \n",
    "model.demanda_2 = Constraint(expr = model.R_2 + model.GT_2 + model.Q_2 == 50) \n",
    "model.demanda_3 = Constraint(expr = model.R_3 + model.GT_3 + model.Q_3 == 50) \n",
    "model.demanda_4 = Constraint(expr = model.R_4 + model.GT_4 + model.Q_4 == 50) \n"
   ]
  },
  {
   "cell_type": "markdown",
   "metadata": {},
   "source": [
    "### Continuidad de los volumenes de los embalses\n",
    "\n",
    "Para el primer periodo, el embalse inicial $Vol_{h,0}$ es conocido, entonces:\n",
    "\n",
    "$$Vol_{h,1} +Q_{h,1}+Ver_{h,1}=A_{h,1}+ Vol_{h,0}$$"
   ]
  },
  {
   "cell_type": "code",
   "execution_count": 5,
   "metadata": {},
   "outputs": [
    {
     "name": "stdout",
     "output_type": "stream",
     "text": [
      "Appending to model.py\n"
     ]
    }
   ],
   "source": [
    "%%writefile -a model.py\n",
    "\n",
    "## una restricción de continuidad por cada etapa\n",
    "model.continuidad_1 = Constraint(expr =  model.V_1 + model.Q_1 + model.S_1 == 96.) \n",
    "model.continuidad_2 = Constraint(expr = -model.V_1 + model.V_2 + model.Q_2 + model.S_2 == 15) \n",
    "model.continuidad_3 = Constraint(expr = -model.V_2 + model.V_3 + model.Q_3 + model.S_3 == 12) \n",
    "model.continuidad_4 = Constraint(expr = -model.V_3 + model.V_4 + model.Q_4 + model.S_4 == 18) \n"
   ]
  },
  {
   "cell_type": "markdown",
   "metadata": {},
   "source": [
    "### Caudal turbinado máximo"
   ]
  },
  {
   "cell_type": "code",
   "execution_count": 6,
   "metadata": {},
   "outputs": [
    {
     "name": "stdout",
     "output_type": "stream",
     "text": [
      "Appending to model.py\n"
     ]
    }
   ],
   "source": [
    "%%writefile -a model.py\n",
    "\n",
    "## una restricción de caudal máximo por cada planta \n",
    "## (solo hay una) por cada etapa\n",
    "model.qmax_1 = Constraint(expr = model.Q_1 <= 50 )  \n",
    "model.qmax_2 = Constraint(expr = model.Q_2 <= 50 ) \n",
    "model.qmax_3 = Constraint(expr = model.Q_3 <= 50 ) \n",
    "model.qmax_4 = Constraint(expr = model.Q_4 <= 50 ) \n"
   ]
  },
  {
   "cell_type": "markdown",
   "metadata": {},
   "source": [
    "### Generacion térmica máxima"
   ]
  },
  {
   "cell_type": "code",
   "execution_count": 7,
   "metadata": {},
   "outputs": [
    {
     "name": "stdout",
     "output_type": "stream",
     "text": [
      "Appending to model.py\n"
     ]
    }
   ],
   "source": [
    "%%writefile -a model.py\n",
    "\n",
    "## una restricción de generación máxima por \n",
    "## cada planta térmica y cada etapa\n",
    "\n",
    "model.gtmax_1 = Constraint(expr = model.GT_1 <= 45 )\n",
    "model.gtmax_2 = Constraint(expr = model.GT_2 <= 45 )\n",
    "model.gtmax_3 = Constraint(expr = model.GT_3 <= 45 )\n",
    "model.gtmax_4 = Constraint(expr = model.GT_4 <= 45 )\n"
   ]
  },
  {
   "cell_type": "markdown",
   "metadata": {},
   "source": [
    "### Solucion"
   ]
  },
  {
   "cell_type": "code",
   "execution_count": 8,
   "metadata": {},
   "outputs": [
    {
     "name": "stdout",
     "output_type": "stream",
     "text": [
      "/bin/sh: pyomo: command not found\r\n"
     ]
    }
   ],
   "source": [
    "!pyomo solve --solver=glpk model.py"
   ]
  },
  {
   "cell_type": "code",
   "execution_count": 9,
   "metadata": {
    "scrolled": false
   },
   "outputs": [
    {
     "name": "stdout",
     "output_type": "stream",
     "text": [
      "# ==========================================================\r\n",
      "# = Solver Results                                         =\r\n",
      "# ==========================================================\r\n",
      "# ----------------------------------------------------------\r\n",
      "#   Problem Information\r\n",
      "# ----------------------------------------------------------\r\n",
      "Problem: \r\n",
      "- Name: unknown\r\n",
      "  Lower bound: 885.0\r\n",
      "  Upper bound: 885.0\r\n",
      "  Number of objectives: 1\r\n",
      "  Number of constraints: 17\r\n",
      "  Number of variables: 21\r\n",
      "  Number of nonzeros: 36\r\n",
      "  Sense: minimize\r\n",
      "# ----------------------------------------------------------\r\n",
      "#   Solver Information\r\n",
      "# ----------------------------------------------------------\r\n",
      "Solver: \r\n",
      "- Status: ok\r\n",
      "  Termination condition: optimal\r\n",
      "  Statistics: \r\n",
      "    Branch and bound: \r\n",
      "      Number of bounded subproblems: 0\r\n",
      "      Number of created subproblems: 0\r\n",
      "  Error rc: 0\r\n",
      "  Time: 0.008028984069824219\r\n",
      "# ----------------------------------------------------------\r\n",
      "#   Solution Information\r\n",
      "# ----------------------------------------------------------\r\n",
      "Solution: \r\n",
      "- number of solutions: 1\r\n",
      "  number of solutions displayed: 1\r\n",
      "- Gap: 0.0\r\n",
      "  Status: feasible\r\n",
      "  Message: None\r\n",
      "  Objective:\r\n",
      "    obj:\r\n",
      "      Value: 885\r\n",
      "  Variable:\r\n",
      "    GT_3:\r\n",
      "      Value: 27\r\n",
      "    GT_4:\r\n",
      "      Value: 32\r\n",
      "    Q_1:\r\n",
      "      Value: 50\r\n",
      "    Q_2:\r\n",
      "      Value: 50\r\n",
      "    Q_3:\r\n",
      "      Value: 23\r\n",
      "    Q_4:\r\n",
      "      Value: 18\r\n",
      "    V_1:\r\n",
      "      Value: 46\r\n",
      "    V_2:\r\n",
      "      Value: 11\r\n",
      "  Constraint: No values\r\n"
     ]
    }
   ],
   "source": [
    "!cat results.yml"
   ]
  },
  {
   "cell_type": "code",
   "execution_count": 10,
   "metadata": {
    "collapsed": true
   },
   "outputs": [],
   "source": [
    "!rm model.py results.yml"
   ]
  },
  {
   "cell_type": "markdown",
   "metadata": {},
   "source": [
    "Planificación usando Pyomo - Parte 1\n",
    "===\n",
    "\n",
    "**Juan David Velásquez Henao**  \n",
    "jdvelasq@unal.edu.co   \n",
    "Universidad Nacional de Colombia, Sede Medellín  \n",
    "Facultad de Minas  \n",
    "Medellín, Colombia\n",
    "\n",
    "---\n",
    "\n",
    "Haga click [aquí](https://github.com/jdvelasq/workshop-asocio-2018/tree/master/) para acceder al repositorio online.\n",
    "\n",
    "Haga click [aquí](http://nbviewer.jupyter.org/github/jdvelasq/workshop-asocio-2018/tree/master/) para explorar el repositorio usando `nbviewer`. "
   ]
  }
 ],
 "metadata": {
  "kernelspec": {
   "display_name": "Python 3",
   "language": "python",
   "name": "python3"
  },
  "language_info": {
   "codemirror_mode": {
    "name": "ipython",
    "version": 3
   },
   "file_extension": ".py",
   "mimetype": "text/x-python",
   "name": "python",
   "nbconvert_exporter": "python",
   "pygments_lexer": "ipython3",
   "version": "3.6.4"
  }
 },
 "nbformat": 4,
 "nbformat_minor": 2
}
