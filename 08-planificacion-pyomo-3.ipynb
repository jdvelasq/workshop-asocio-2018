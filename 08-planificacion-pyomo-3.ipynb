{
 "cells": [
  {
   "cell_type": "markdown",
   "metadata": {},
   "source": [
    "Planificación usando Pyomo - Parte 3\n",
    "===\n",
    "\n",
    "**Juan David Velásquez Henao**  \n",
    "jdvelasq@unal.edu.co   \n",
    "Universidad Nacional de Colombia, Sede Medellín  \n",
    "Facultad de Minas  \n",
    "Medellín, Colombia\n",
    "\n",
    "---\n",
    "\n",
    "Haga click [aquí](https://github.com/jdvelasq/workshop-asocio-2018/tree/master/) para acceder al repositorio online.\n",
    "\n",
    "Haga click [aquí](http://nbviewer.jupyter.org/github/jdvelasq/workshop-asocio-2018/tree/master/) para explorar el repositorio usando `nbviewer`. "
   ]
  },
  {
   "cell_type": "markdown",
   "metadata": {},
   "source": [
    "### Definición del problema\n",
    "\n",
    "Se desea realizar el planeamiento de la operacion de un sistema hidrotermico conformado por dos plantas hidraulica y dos termicas. La informacion es la siguiente:"
   ]
  },
  {
   "cell_type": "markdown",
   "metadata": {},
   "source": [
    " \n",
    " \n",
    "* **Planificacion:**    4 etapas. \n",
    "\n",
    "\n",
    "* **Planta hidraulica 1:**    \n",
    "    * Vol. maximo (V*) = 100.\n",
    "    * Caudal max. turbinado (Q*) = 50.\n",
    "    * Factor conversion ($\\rho$) = 1.\n",
    "    * Aporte por etapa ($A_i$) =  {21, 15, 12, 18}.\n",
    "    * Volumen inicial ($V_o$) = 75.  \n",
    "    \n",
    "    \n",
    "* **Planta hidraulica 2:**    \n",
    "    * Vol. maximo (V*) = 100.\n",
    "    * Caudal max. turbinado (Q*) = 45.\n",
    "    * Factor conversion ($\\rho$) = 1.\n",
    "    * Aporte por etapa ($A_i$)  = {14, 8, 5, 11}.\n",
    "    * Volumen inicial ($V_o$) = 75.  \n",
    "    \n",
    "    \n",
    "* **Planta termica 1 :**    \n",
    "    * Generacion maxima (G*) = 45\n",
    "    * Costo combustible (CC) = 15. \n",
    "    \n",
    "    \n",
    "* **Planta termica 2 :**    \n",
    "    * Generacion maxima (G*) = 40\n",
    "    * Costo combustible (CC) = 15. \n",
    " \n",
    " \n",
    "* **Racionamiento:**   \n",
    "    * Costo racionamiento (CR) = 1000 para todas las etapas. \n",
    " \n",
    " \n",
    "* **Demanda:**  80 para todas las etapas \n",
    " "
   ]
  },
  {
   "cell_type": "markdown",
   "metadata": {
    "collapsed": true
   },
   "source": [
    "### Inicialización de Pyomo"
   ]
  },
  {
   "cell_type": "code",
   "execution_count": 1,
   "metadata": {},
   "outputs": [
    {
     "name": "stdout",
     "output_type": "stream",
     "text": [
      "Overwriting model.py\n"
     ]
    }
   ],
   "source": [
    "%%writefile model.py\n",
    "\n",
    "\n",
    "from pyomo.environ import *\n",
    "\n",
    "## Creación del modelo abstracto\n",
    "model = AbstractModel()\n"
   ]
  },
  {
   "cell_type": "markdown",
   "metadata": {},
   "source": [
    "### Formulación del modelo abstracto"
   ]
  },
  {
   "cell_type": "code",
   "execution_count": 2,
   "metadata": {},
   "outputs": [
    {
     "name": "stdout",
     "output_type": "stream",
     "text": [
      "Appending to model.py\n"
     ]
    }
   ],
   "source": [
    "%%writefile -a model.py\n",
    "\n",
    "## Datos\n",
    "\n",
    "# Numero de etapas\n",
    "model.P = Set(ordered=True)                      \n",
    "                     \n",
    "# Numero de plantas hidro\n",
    "model.HD = Set(ordered=True)                     \n",
    "\n",
    "# Numero de plantas termicas \n",
    "model.TM = Set(ordered=True)                     \n",
    "\n",
    "# Costo de Racionamiento indexado por etapa\n",
    "model.CR = Param(model.P)                         \n",
    "\n",
    "# Costo de Combusstible indexado por termica\n",
    "model.CC = Param(model.TM)                       \n",
    "\n",
    "# Volumen inicial del embalse indexado por hidro\n",
    "model.Vo = Param(model.HD)                         \n",
    "\n",
    "# Demanda indexada etapa\n",
    "model.D = Param(model.P)                         \n",
    "         \n",
    "# Aportes Hidrologicos indexado por plantas hidro\n",
    "model.A = Param(model.HD,model.P)                \n",
    "\n",
    "# Caudal turbinado indexado por plantas hidro\n",
    "model.QH = Param(model.HD)                       \n",
    "\n",
    "# Generacion termica maxima indexado por termicas\n",
    "model.GM = Param(model.TM)                       \n"
   ]
  },
  {
   "cell_type": "code",
   "execution_count": 3,
   "metadata": {},
   "outputs": [
    {
     "name": "stdout",
     "output_type": "stream",
     "text": [
      "Appending to model.py\n"
     ]
    }
   ],
   "source": [
    "%%writefile -a model.py\n",
    "\n",
    "# La energia racionada indexada por etapa\n",
    "model.R = Var(model.P, within=NonNegativeReals)    \n",
    "\n",
    "# La generacion termica varia por etapa y por planta\n",
    "model.G = Var(model.P, model.TM, within=NonNegativeReals)   \n",
    "\n",
    "# El caudar turbinado varia por etapa y por plantas hidroelectricas\n",
    "model.Q = Var(model.P, model.HD, within=NonNegativeReals)         \n",
    "\n",
    "# El volumen final varia por etapa y por la planta hidro en que se encuentre\n",
    "model.V = Var(model.P, model.HD, within=NonNegativeReals)\n",
    "\n",
    "# El volumen vertido varia por etapa y por planta hidro\n",
    "model.S = Var(model.P, model.HD, within=NonNegativeReals)\n"
   ]
  },
  {
   "cell_type": "markdown",
   "metadata": {},
   "source": [
    "### Funcion objetivo"
   ]
  },
  {
   "cell_type": "markdown",
   "metadata": {},
   "source": [
    "La funcion objetivo busca minimizar el costo total del racionamiento mas el costo total de la generacion termica:\n",
    "\n",
    "\n",
    "$$\\text{minimize} ~ \\sum_{p=1}^{P} ~\\Bigg\\{ CR * DEF_p + \\sum_{t=1}^T CC_t * GT_{p,t} ~\\Bigg\\}$$\n",
    "\n",
    "\n",
    "\n",
    "\n",
    "\n"
   ]
  },
  {
   "cell_type": "code",
   "execution_count": 4,
   "metadata": {},
   "outputs": [
    {
     "name": "stdout",
     "output_type": "stream",
     "text": [
      "Appending to model.py\n"
     ]
    }
   ],
   "source": [
    "%%writefile -a model.py\n",
    "\n",
    "## Definicion de la funcion objetivo\n",
    "\n",
    "def obj_rule(model):\n",
    "    return (sum(model.CR[i]*model.R[i] for i in model.P) + \n",
    "           sum(model.CC[j]*model.G[i,j] for j in model.TM for i in model.P))\n",
    "\n",
    "model.obj = Objective(rule = obj_rule)\n"
   ]
  },
  {
   "cell_type": "markdown",
   "metadata": {},
   "source": [
    "### Demanda\n",
    "\n",
    "Por cada periodo de tiempo $p$ debe cumplirse que:\n",
    "\n",
    "$$ DEF_p + \\Bigg\\{ \\sum_{h=1}^H \\rho_h * Q_{hp} \\Bigg\\} + \\Bigg\\{ \\sum_{t=1}^T GT_{t p} \\Bigg\\} = dem_p$$\n"
   ]
  },
  {
   "cell_type": "code",
   "execution_count": 5,
   "metadata": {},
   "outputs": [
    {
     "name": "stdout",
     "output_type": "stream",
     "text": [
      "Appending to model.py\n"
     ]
    }
   ],
   "source": [
    "%%writefile -a model.py\n",
    "\n",
    "def demanda_rule(model,p):\n",
    "        return (model.R[p] + \n",
    "                sum(model.G[p,j] for j in model.TM) + \n",
    "                sum(model.Q[p,j] for j in model.HD) == model.D[p])\n",
    "\n",
    "model.demanda = Constraint(model.P,rule=demanda_rule)\n"
   ]
  },
  {
   "cell_type": "markdown",
   "metadata": {},
   "source": [
    "### Continuidad de los volumenes de los embalses\n",
    "\n",
    "Para el primer periodo, el embalse inicial $Vol_{h,0}$ es conocido, entonces:\n",
    "\n",
    "$$Vol_{h,1} +Q_{h,1}+Ver_{h,1}=A_{h,1}+ Vol_{h,0}$$"
   ]
  },
  {
   "cell_type": "code",
   "execution_count": 6,
   "metadata": {},
   "outputs": [
    {
     "name": "stdout",
     "output_type": "stream",
     "text": [
      "Appending to model.py\n"
     ]
    }
   ],
   "source": [
    "%%writefile -a model.py\n",
    "\n",
    "def continuidad_rule(model, p, hd):\n",
    "        if model.P[p] == 1 :\n",
    "            return model.V[p,hd] + model.Q[p,hd] + model.S[p,hd] == model.Vo[hd]+ model.A[hd,1]     \n",
    "        else:\n",
    "            return -model.V[p-1,hd] + model.V[p,hd] + model.Q[p,hd] + model.S[p,hd] ==  model.A[hd,p]    \n",
    "\n",
    "model.continuidad = Constraint(model.P, model.HD, rule=continuidad_rule)\n"
   ]
  },
  {
   "cell_type": "markdown",
   "metadata": {},
   "source": [
    "### Caudal turbinado maximo"
   ]
  },
  {
   "cell_type": "code",
   "execution_count": 7,
   "metadata": {},
   "outputs": [
    {
     "name": "stdout",
     "output_type": "stream",
     "text": [
      "Appending to model.py\n"
     ]
    }
   ],
   "source": [
    "%%writefile -a model.py\n",
    "\n",
    "def qmax_rule(model, p, HD):\n",
    "    \n",
    "    return model.Q[p, HD] <= model.QH[HD]\n",
    "\n",
    "model.qmax = Constraint(model.P, model.HD, rule = qmax_rule)\n"
   ]
  },
  {
   "cell_type": "markdown",
   "metadata": {},
   "source": [
    "### Generacion térmica maxima"
   ]
  },
  {
   "cell_type": "code",
   "execution_count": 8,
   "metadata": {},
   "outputs": [
    {
     "name": "stdout",
     "output_type": "stream",
     "text": [
      "Appending to model.py\n"
     ]
    }
   ],
   "source": [
    "%%writefile -a model.py\n",
    "\n",
    "def gtmax_rule(model,p,TM):\n",
    "    return model.G[p,TM] <= model.GM[TM]\n",
    "\n",
    "model.gtmax = Constraint(model.P, model.TM, rule=gtmax_rule)\n"
   ]
  },
  {
   "cell_type": "markdown",
   "metadata": {},
   "source": [
    "### Datos particulares del caso"
   ]
  },
  {
   "cell_type": "code",
   "execution_count": 9,
   "metadata": {},
   "outputs": [
    {
     "name": "stdout",
     "output_type": "stream",
     "text": [
      "Writing model.dat\n"
     ]
    }
   ],
   "source": [
    "%%writefile model.dat\n",
    "\n",
    "set P  := 1 2 3 4 ;\n",
    "set HD := 1 2 ;\n",
    "set TM := 1 2 ;\n",
    "\n",
    "param CR := \n",
    "1 1000\n",
    "2 1000\n",
    "3 1000\n",
    "4 1000 ;\n",
    "\n",
    "param CC := \n",
    "1 15\n",
    "2 15 ;\n",
    "\n",
    "param Vo :=\n",
    "1 75\n",
    "2 75 ;\n",
    "\n",
    "param D :=\n",
    "1 80\n",
    "2 80\n",
    "3 80\n",
    "4 80 ;\n",
    "\n",
    "param A :=\n",
    "1 1 21\n",
    "2 1 14\n",
    "1 2 15\n",
    "2 2 8\n",
    "1 3 12\n",
    "2 3 5\n",
    "1 4 18\n",
    "2 4 11 ;\n",
    "\n",
    "param QH := \n",
    "1 50 \n",
    "2 45 ;\n",
    "\n",
    "param GM := \n",
    "1 45\n",
    "2 40 ;"
   ]
  },
  {
   "cell_type": "markdown",
   "metadata": {},
   "source": [
    "# Solucion\n",
    "[Contenido](#Contenido)"
   ]
  },
  {
   "cell_type": "code",
   "execution_count": 10,
   "metadata": {
    "scrolled": true
   },
   "outputs": [
    {
     "name": "stdout",
     "output_type": "stream",
     "text": [
      "[    0.00] Setting up Pyomo environment\n",
      "[    0.00] Applying Pyomo preprocessing actions\n",
      "[    0.00] Creating model\n",
      "[    0.04] Applying solver\n",
      "[    0.06] Processing results\n",
      "    Number of solutions: 1\n",
      "    Solution Information\n",
      "      Gap: 0.0\n",
      "      Status: feasible\n",
      "      Function Value: 990.0\n",
      "    Solver results file: results.yml\n",
      "[    0.06] Applying Pyomo postprocessing actions\n",
      "[    0.07] Pyomo Finished\n"
     ]
    }
   ],
   "source": [
    "!pyomo solve --solver=glpk model.py model.dat"
   ]
  },
  {
   "cell_type": "code",
   "execution_count": 11,
   "metadata": {
    "scrolled": false
   },
   "outputs": [
    {
     "name": "stdout",
     "output_type": "stream",
     "text": [
      "# ==========================================================\r\n",
      "# = Solver Results                                         =\r\n",
      "# ==========================================================\r\n",
      "# ----------------------------------------------------------\r\n",
      "#   Problem Information\r\n",
      "# ----------------------------------------------------------\r\n",
      "Problem: \r\n",
      "- Name: unknown\r\n",
      "  Lower bound: 990.0\r\n",
      "  Upper bound: 990.0\r\n",
      "  Number of objectives: 1\r\n",
      "  Number of constraints: 29\r\n",
      "  Number of variables: 37\r\n",
      "  Number of nonzeros: 67\r\n",
      "  Sense: minimize\r\n",
      "# ----------------------------------------------------------\r\n",
      "#   Solver Information\r\n",
      "# ----------------------------------------------------------\r\n",
      "Solver: \r\n",
      "- Status: ok\r\n",
      "  Termination condition: optimal\r\n",
      "  Statistics: \r\n",
      "    Branch and bound: \r\n",
      "      Number of bounded subproblems: 0\r\n",
      "      Number of created subproblems: 0\r\n",
      "  Error rc: 0\r\n",
      "  Time: 0.008777141571044922\r\n",
      "# ----------------------------------------------------------\r\n",
      "#   Solution Information\r\n",
      "# ----------------------------------------------------------\r\n",
      "Solution: \r\n",
      "- number of solutions: 1\r\n",
      "  number of solutions displayed: 1\r\n",
      "- Gap: 0.0\r\n",
      "  Status: feasible\r\n",
      "  Message: None\r\n",
      "  Objective:\r\n",
      "    obj:\r\n",
      "      Value: 990\r\n",
      "  Variable:\r\n",
      "    G[3,2]:\r\n",
      "      Value: 15\r\n",
      "    G[4,1]:\r\n",
      "      Value: 45\r\n",
      "    G[4,2]:\r\n",
      "      Value: 6\r\n",
      "    Q[1,1]:\r\n",
      "      Value: 50\r\n",
      "    Q[1,2]:\r\n",
      "      Value: 30\r\n",
      "    Q[2,1]:\r\n",
      "      Value: 50\r\n",
      "    Q[2,2]:\r\n",
      "      Value: 30\r\n",
      "    Q[3,1]:\r\n",
      "      Value: 23\r\n",
      "    Q[3,2]:\r\n",
      "      Value: 42\r\n",
      "    Q[4,1]:\r\n",
      "      Value: 18\r\n",
      "    Q[4,2]:\r\n",
      "      Value: 11\r\n",
      "    V[1,1]:\r\n",
      "      Value: 46\r\n",
      "    V[1,2]:\r\n",
      "      Value: 59\r\n",
      "    V[2,1]:\r\n",
      "      Value: 11\r\n",
      "    V[2,2]:\r\n",
      "      Value: 37\r\n",
      "  Constraint: No values\r\n"
     ]
    }
   ],
   "source": [
    "!cat results.yml"
   ]
  },
  {
   "cell_type": "code",
   "execution_count": 12,
   "metadata": {},
   "outputs": [],
   "source": [
    "!rm model.py model.dat"
   ]
  },
  {
   "cell_type": "markdown",
   "metadata": {},
   "source": [
    "Planificación usando Pyomo - Parte 3\n",
    "===\n",
    "\n",
    "**Juan David Velásquez Henao**  \n",
    "jdvelasq@unal.edu.co   \n",
    "Universidad Nacional de Colombia, Sede Medellín  \n",
    "Facultad de Minas  \n",
    "Medellín, Colombia\n",
    "\n",
    "---\n",
    "\n",
    "Haga click [aquí](https://github.com/jdvelasq/workshop-asocio-2018/tree/master/) para acceder al repositorio online.\n",
    "\n",
    "Haga click [aquí](http://nbviewer.jupyter.org/github/jdvelasq/workshop-asocio-2018/tree/master/) para explorar el repositorio usando `nbviewer`. "
   ]
  }
 ],
 "metadata": {
  "kernelspec": {
   "display_name": "Python 3",
   "language": "python",
   "name": "python3"
  },
  "language_info": {
   "codemirror_mode": {
    "name": "ipython",
    "version": 3
   },
   "file_extension": ".py",
   "mimetype": "text/x-python",
   "name": "python",
   "nbconvert_exporter": "python",
   "pygments_lexer": "ipython3",
   "version": "3.6.4"
  }
 },
 "nbformat": 4,
 "nbformat_minor": 2
}
